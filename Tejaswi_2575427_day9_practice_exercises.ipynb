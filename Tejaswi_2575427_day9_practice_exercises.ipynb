{
 "cells": [
  {
   "cell_type": "markdown",
   "id": "e8bcf248",
   "metadata": {},
   "source": [
    "# 1. Create a 3x3x3 array with random values"
   ]
  },
  {
   "cell_type": "code",
   "execution_count": 1,
   "id": "f6a9e3c0",
   "metadata": {},
   "outputs": [
    {
     "name": "stdout",
     "output_type": "stream",
     "text": [
      "[[[0.16980938 0.44104102 0.55644979]\n",
      "  [0.60459831 0.45168907 0.80548855]\n",
      "  [0.33267145 0.87102259 0.49425827]]\n",
      "\n",
      " [[0.41568729 0.7346272  0.34763027]\n",
      "  [0.61603338 0.25235916 0.55089728]\n",
      "  [0.55569228 0.46845746 0.55314458]]\n",
      "\n",
      " [[0.11625735 0.93391752 0.00574158]\n",
      "  [0.32663679 0.35251584 0.54094124]\n",
      "  [0.20298218 0.08734152 0.81025308]]]\n"
     ]
    }
   ],
   "source": [
    "import numpy as np\n",
    "\n",
    "# Create a 3x3x3 array with random values between 0 and 1\n",
    "random_array = np.random.rand(3, 3, 3)\n",
    "\n",
    "print(random_array)"
   ]
  },
  {
   "cell_type": "markdown",
   "id": "be4247a3",
   "metadata": {},
   "source": [
    "# 2. Create a 5x5 matrix with values 1,2,3,4 just below the diagonal"
   ]
  },
  {
   "cell_type": "code",
   "execution_count": 3,
   "id": "8bf58adb",
   "metadata": {},
   "outputs": [
    {
     "name": "stdout",
     "output_type": "stream",
     "text": [
      "[[0 0 0 0 0]\n",
      " [1 0 0 0 0]\n",
      " [0 2 0 0 0]\n",
      " [0 0 3 0 0]\n",
      " [0 0 0 4 0]]\n"
     ]
    }
   ],
   "source": [
    "import numpy as np\n",
    "\n",
    "# Create a 5x5 matrix with values 1, 2, 3, 4 below the diagonal\n",
    "matrix = np.diag(1 + np.arange(4), k=-1)\n",
    "\n",
    "print(matrix)"
   ]
  },
  {
   "cell_type": "markdown",
   "id": "b6c78300",
   "metadata": {},
   "source": [
    "# 3. Create a 8x8 matrix and fill it with a checkboard pattern"
   ]
  },
  {
   "cell_type": "code",
   "execution_count": 4,
   "id": "dde15860",
   "metadata": {},
   "outputs": [
    {
     "name": "stdout",
     "output_type": "stream",
     "text": [
      "[[0 1 0 1 0 1 0 1]\n",
      " [1 0 1 0 1 0 1 0]\n",
      " [0 1 0 1 0 1 0 1]\n",
      " [1 0 1 0 1 0 1 0]\n",
      " [0 1 0 1 0 1 0 1]\n",
      " [1 0 1 0 1 0 1 0]\n",
      " [0 1 0 1 0 1 0 1]\n",
      " [1 0 1 0 1 0 1 0]]\n"
     ]
    }
   ],
   "source": [
    "import numpy as np\n",
    "\n",
    "# Create an 8x8 matrix filled with a checkerboard pattern\n",
    "checkerboard = np.zeros((8, 8), dtype=int)\n",
    "checkerboard[1::2, ::2] = 1\n",
    "checkerboard[::2, 1::2] = 1\n",
    "\n",
    "print(checkerboard)"
   ]
  },
  {
   "cell_type": "markdown",
   "id": "7b91ca09",
   "metadata": {},
   "source": [
    "# 4. Normalize a 5X5 random matrix"
   ]
  },
  {
   "cell_type": "code",
   "execution_count": 5,
   "id": "6b10fd21",
   "metadata": {},
   "outputs": [
    {
     "name": "stdout",
     "output_type": "stream",
     "text": [
      "Original matrix:\n",
      "[[0.82907405 0.24329697 0.40414258 0.77947832 0.47844081]\n",
      " [0.46236158 0.26391576 0.61926824 0.3823945  0.28891669]\n",
      " [0.35479738 0.93271637 0.87630725 0.19425235 0.58127638]\n",
      " [0.1812663  0.0761455  0.06961581 0.38454124 0.65873481]\n",
      " [0.66370918 0.6602797  0.64327487 0.7577667  0.08911544]]\n",
      "\n",
      "Normalized matrix:\n",
      "[[ 1.38266465 -0.90482686 -0.27671598  1.18899062  0.01342267]\n",
      " [-0.04936759 -0.82430935  0.56336149 -0.36164341 -0.72667936]\n",
      " [-0.46941166  1.78739356  1.56711289 -1.09634878  0.41500121]\n",
      " [-1.14706    -1.5575625  -1.58306127 -0.35326026  0.71748061]\n",
      " [ 0.73690577  0.72351348  0.6571087   1.10420553 -1.50691415]]\n"
     ]
    }
   ],
   "source": [
    "import numpy as np\n",
    "\n",
    "# Create a random 5x5 matrix\n",
    "random_matrix = np.random.rand(5, 5)\n",
    "\n",
    "# Calculate the mean and standard deviation of the matrix\n",
    "mean = np.mean(random_matrix)\n",
    "std_dev = np.std(random_matrix)\n",
    "\n",
    "# Normalize the matrix\n",
    "normalized_matrix = (random_matrix - mean) / std_dev\n",
    "\n",
    "# Print the normalized matrix\n",
    "print(\"Original matrix:\")\n",
    "print(random_matrix)\n",
    "print(\"\\nNormalized matrix:\")\n",
    "print(normalized_matrix)"
   ]
  },
  {
   "cell_type": "markdown",
   "id": "51163acd",
   "metadata": {},
   "source": [
    "# 5. How to find common values between two arrays?"
   ]
  },
  {
   "cell_type": "code",
   "execution_count": 6,
   "id": "f37197cf",
   "metadata": {},
   "outputs": [
    {
     "name": "stdout",
     "output_type": "stream",
     "text": [
      "Common Values: [3 4 5]\n"
     ]
    }
   ],
   "source": [
    "import numpy as np\n",
    "\n",
    "# Define two arrays\n",
    "array1 = np.array([1, 2, 3, 4, 5])\n",
    "array2 = np.array([3, 4, 5, 6, 7])\n",
    "\n",
    "# Find the common values between the two arrays\n",
    "common_values = np.intersect1d(array1, array2)\n",
    "\n",
    "print(\"Common Values:\", common_values)"
   ]
  },
  {
   "cell_type": "markdown",
   "id": "2a126a43",
   "metadata": {},
   "source": [
    "# 6. How to get the dates of yesterday,today and tomorrow?"
   ]
  },
  {
   "cell_type": "code",
   "execution_count": 7,
   "id": "1474af86",
   "metadata": {},
   "outputs": [
    {
     "name": "stdout",
     "output_type": "stream",
     "text": [
      "Yesterday: 2023-09-21\n",
      "Today: 2023-09-22\n",
      "Tomorrow: 2023-09-23\n"
     ]
    }
   ],
   "source": [
    "from datetime import datetime, timedelta\n",
    "\n",
    "# Get the current date (today)\n",
    "today = datetime.now()\n",
    "\n",
    "# Calculate yesterday and tomorrow dates\n",
    "yesterday = today - timedelta(days=1)\n",
    "tomorrow = today + timedelta(days=1)\n",
    "\n",
    "# Format the dates as strings (optional)\n",
    "today_str = today.strftime('%Y-%m-%d')\n",
    "yesterday_str = yesterday.strftime('%Y-%m-%d')\n",
    "tomorrow_str = tomorrow.strftime('%Y-%m-%d')\n",
    "\n",
    "print(\"Yesterday:\", yesterday_str)\n",
    "print(\"Today:\", today_str)\n",
    "print(\"Tomorrow:\", tomorrow_str)"
   ]
  },
  {
   "cell_type": "markdown",
   "id": "9b5ced33",
   "metadata": {},
   "source": [
    "# 7. Consider two random array A and B, Check if they are equal"
   ]
  },
  {
   "cell_type": "code",
   "execution_count": 8,
   "id": "b60bb9c7",
   "metadata": {},
   "outputs": [
    {
     "name": "stdout",
     "output_type": "stream",
     "text": [
      "Arrays A and B are not equal.\n"
     ]
    }
   ],
   "source": [
    "import numpy as np\n",
    "\n",
    "# Create two random arrays A and B\n",
    "A = np.random.rand(5)\n",
    "B = np.random.rand(5)\n",
    "\n",
    "# Check if arrays A and B are equal\n",
    "are_equal = np.array_equal(A, B)\n",
    "\n",
    "if are_equal:\n",
    "    print(\"Arrays A and B are equal.\")\n",
    "else:\n",
    "    print(\"Arrays A and B are not equal.\")"
   ]
  },
  {
   "cell_type": "markdown",
   "id": "890f8157",
   "metadata": {},
   "source": [
    "# 8. Create random vector of size 10 and replace the maximum value by 0"
   ]
  },
  {
   "cell_type": "code",
   "execution_count": 9,
   "id": "5b111edc",
   "metadata": {},
   "outputs": [
    {
     "name": "stdout",
     "output_type": "stream",
     "text": [
      "Random Vector with the Maximum Value Replaced:\n",
      "[0.48333904 0.63128584 0.         0.89938572 0.82292549 0.34336777\n",
      " 0.49938806 0.06871886 0.73390847 0.84307001]\n"
     ]
    }
   ],
   "source": [
    "import numpy as np\n",
    "\n",
    "# Create a random vector of size 10\n",
    "random_vector = np.random.rand(10)\n",
    "\n",
    "# Find the index of the maximum value in the vector\n",
    "max_index = np.argmax(random_vector)\n",
    "\n",
    "# Replace the maximum value with 0\n",
    "random_vector[max_index] = 0\n",
    "\n",
    "print(\"Random Vector with the Maximum Value Replaced:\")\n",
    "print(random_vector)"
   ]
  },
  {
   "cell_type": "markdown",
   "id": "f6f1edf4",
   "metadata": {},
   "source": [
    "# 9. How to print all the values of an array?"
   ]
  },
  {
   "cell_type": "code",
   "execution_count": 10,
   "id": "154e70f1",
   "metadata": {},
   "outputs": [
    {
     "name": "stdout",
     "output_type": "stream",
     "text": [
      "1\n",
      "2\n",
      "3\n",
      "4\n",
      "5\n"
     ]
    }
   ],
   "source": [
    "import numpy as np\n",
    "\n",
    "# Create a NumPy array\n",
    "my_array = np.array([1, 2, 3, 4, 5])\n",
    "\n",
    "# Print all the values of the array\n",
    "for value in my_array:\n",
    "    print(value)"
   ]
  },
  {
   "cell_type": "markdown",
   "id": "9f1ea895",
   "metadata": {},
   "source": [
    "# 10. Subtract the mean of each row of a matrix"
   ]
  },
  {
   "cell_type": "code",
   "execution_count": 11,
   "id": "53e355e9",
   "metadata": {},
   "outputs": [
    {
     "name": "stdout",
     "output_type": "stream",
     "text": [
      "Original Matrix:\n",
      "[[1 2 3]\n",
      " [4 5 6]\n",
      " [7 8 9]]\n",
      "\n",
      "Matrix with Row-Means Subtracted:\n",
      "[[-1.  0.  1.]\n",
      " [-1.  0.  1.]\n",
      " [-1.  0.  1.]]\n"
     ]
    }
   ],
   "source": [
    "import numpy as np\n",
    "\n",
    "# Create a sample matrix\n",
    "matrix = np.array([[1, 2, 3],\n",
    "                   [4, 5, 6],\n",
    "                   [7, 8, 9]])\n",
    "\n",
    "# Calculate the row-wise means\n",
    "row_means = np.mean(matrix, axis=1, keepdims=True)\n",
    "\n",
    "# Subtract the row-wise means from the matrix\n",
    "normalized_matrix = matrix - row_means\n",
    "\n",
    "print(\"Original Matrix:\")\n",
    "print(matrix)\n",
    "\n",
    "print(\"\\nMatrix with Row-Means Subtracted:\")\n",
    "print(normalized_matrix)"
   ]
  },
  {
   "cell_type": "markdown",
   "id": "a3ed3f34",
   "metadata": {},
   "source": [
    "# 11. Consider a given vector, how to add 1 to each element indexed by a second vector( be careful with repeated indices)?"
   ]
  },
  {
   "cell_type": "code",
   "execution_count": 12,
   "id": "fca540e4",
   "metadata": {},
   "outputs": [
    {
     "name": "stdout",
     "output_type": "stream",
     "text": [
      "Modified Vector:\n",
      "[1 3 3 5 5 7 7 9 9]\n"
     ]
    }
   ],
   "source": [
    "import numpy as np\n",
    "\n",
    "# Given vector\n",
    "given_vector = np.array([1, 2, 3, 4, 5, 6, 7, 8, 9])\n",
    "\n",
    "# Second vector containing indices where you want to add 1\n",
    "indices_to_add_1 = np.array([1, 3, 5, 1, 7])\n",
    "\n",
    "# Find unique indices to avoid repeated additions\n",
    "unique_indices = np.unique(indices_to_add_1)\n",
    "\n",
    "# Add 1 to elements at unique indices\n",
    "given_vector[unique_indices] += 1\n",
    "\n",
    "print(\"Modified Vector:\")\n",
    "print(given_vector)"
   ]
  },
  {
   "cell_type": "markdown",
   "id": "dfb3786f",
   "metadata": {},
   "source": [
    "# 12. How to get the diagonal of a dot product?"
   ]
  },
  {
   "cell_type": "code",
   "execution_count": 13,
   "id": "6d1abd59",
   "metadata": {},
   "outputs": [
    {
     "name": "stdout",
     "output_type": "stream",
     "text": [
      "Dot Product Matrix:\n",
      "[[ 30  24  18]\n",
      " [ 84  69  54]\n",
      " [138 114  90]]\n",
      "\n",
      "Diagonal Elements of Dot Product:\n",
      "[30 69 90]\n"
     ]
    }
   ],
   "source": [
    "import numpy as np\n",
    "\n",
    "# Define two matrices A and B\n",
    "A = np.array([[1, 2, 3],\n",
    "              [4, 5, 6],\n",
    "              [7, 8, 9]])\n",
    "\n",
    "B = np.array([[9, 8, 7],\n",
    "              [6, 5, 4],\n",
    "              [3, 2, 1]])\n",
    "\n",
    "# Compute the dot product of A and B\n",
    "dot_product = np.dot(A, B)\n",
    "\n",
    "# Extract the diagonal elements of the dot product matrix\n",
    "diagonal_elements = np.diag(dot_product)\n",
    "\n",
    "print(\"Dot Product Matrix:\")\n",
    "print(dot_product)\n",
    "\n",
    "print(\"\\nDiagonal Elements of Dot Product:\")\n",
    "print(diagonal_elements)"
   ]
  },
  {
   "cell_type": "markdown",
   "id": "7faeac27",
   "metadata": {},
   "source": [
    "# 13. How to find the most frequent value in an array?"
   ]
  },
  {
   "cell_type": "code",
   "execution_count": 21,
   "id": "4e4c3f54",
   "metadata": {},
   "outputs": [
    {
     "data": {
      "text/plain": [
       "array([9, 8, 7, 9, 3, 6, 6, 3, 7, 8, 7, 3, 0, 1, 2, 9, 7, 1, 8, 7, 9, 8,\n",
       "       3, 6, 2, 6, 9, 6, 9, 9, 3, 9, 7, 8, 5, 2, 8, 0, 8, 3, 5, 8, 9, 9,\n",
       "       1, 0, 6, 6, 8, 7])"
      ]
     },
     "execution_count": 21,
     "metadata": {},
     "output_type": "execute_result"
    }
   ],
   "source": [
    "x = np.random.randint(0,10,50)\n",
    "x"
   ]
  },
  {
   "cell_type": "code",
   "execution_count": 22,
   "id": "15a1d223",
   "metadata": {},
   "outputs": [
    {
     "name": "stdout",
     "output_type": "stream",
     "text": [
      "Most frequent value: 0\n"
     ]
    }
   ],
   "source": [
    "import numpy as np\n",
    "\n",
    "# Create the random NumPy array\n",
    "x = np.random.randint(0, 10, 50)\n",
    "\n",
    "# Use NumPy to find the most frequent value\n",
    "most_common_value = np.bincount(x).argmax()\n",
    "\n",
    "print(\"Most frequent value:\", most_common_value)"
   ]
  },
  {
   "cell_type": "markdown",
   "id": "8dc68572",
   "metadata": {},
   "source": [
    "# 14. How to get the n largest values of an array"
   ]
  },
  {
   "cell_type": "code",
   "execution_count": 16,
   "id": "16563f36",
   "metadata": {},
   "outputs": [
    {
     "name": "stdout",
     "output_type": "stream",
     "text": [
      "The 3 largest values in the array are: [ 7  9 10]\n"
     ]
    }
   ],
   "source": [
    "import numpy as np\n",
    "\n",
    "# Create an example NumPy array\n",
    "arr = np.array([3, 1, 9, 4, 7, 2, 10, 5, 6])\n",
    "\n",
    "# Specify the value of n for the n largest values\n",
    "n = 3\n",
    "\n",
    "# Use numpy.partition to get the n largest values\n",
    "n_largest = np.partition(arr, -n)[-n:]\n",
    "\n",
    "print(f\"The {n} largest values in the array are: {n_largest}\")"
   ]
  },
  {
   "cell_type": "markdown",
   "id": "59319a95",
   "metadata": {},
   "source": [
    "# 15. How to create a record array from a regular array?"
   ]
  },
  {
   "cell_type": "code",
   "execution_count": 23,
   "id": "2133176d",
   "metadata": {},
   "outputs": [
    {
     "name": "stdout",
     "output_type": "stream",
     "text": [
      "Record Array:\n",
      "[(1, 'vani', 25) (2, 'tejaswi', 18) (3, 'teju', 22)]\n",
      "\n",
      "Accessing by Field Name:\n",
      "ID: [1 2 3]\n",
      "Name: ['vani' 'tejaswi' 'teju']\n",
      "Age: [25 18 22]\n"
     ]
    }
   ],
   "source": [
    "import numpy as np\n",
    "\n",
    "# Create a regular NumPy array\n",
    "regular_array = np.array([[1, 'vani', 25],\n",
    "                          [2, 'tejaswi', 18],\n",
    "                          [3, 'teju', 22]])\n",
    "\n",
    "# Define field names for each column\n",
    "dtype = [('ID', int), ('Name', 'U10'), ('Age', int)]\n",
    "\n",
    "# Create a record array using numpy.rec.fromarrays\n",
    "record_array = np.rec.fromarrays(regular_array.T, dtype=dtype)\n",
    "\n",
    "# Access elements by field name\n",
    "print(\"Record Array:\")\n",
    "print(record_array)\n",
    "\n",
    "# Access elements by field name\n",
    "print(\"\\nAccessing by Field Name:\")\n",
    "print(\"ID:\", record_array['ID'])\n",
    "print(\"Name:\", record_array['Name'])\n",
    "print(\"Age:\", record_array['Age'])"
   ]
  },
  {
   "cell_type": "markdown",
   "id": "5a4c0348",
   "metadata": {},
   "source": [
    "# 16.  How to swap two rows of an array?"
   ]
  },
  {
   "cell_type": "code",
   "execution_count": 18,
   "id": "5bd128a6",
   "metadata": {},
   "outputs": [
    {
     "name": "stdout",
     "output_type": "stream",
     "text": [
      "Array with Rows Swapped:\n",
      "[[7 8 9]\n",
      " [4 5 6]\n",
      " [1 2 3]]\n"
     ]
    }
   ],
   "source": [
    "import numpy as np\n",
    "\n",
    "# Create an example 2D array\n",
    "array = np.array([[1, 2, 3],\n",
    "                  [4, 5, 6],\n",
    "                  [7, 8, 9]])\n",
    "\n",
    "# Define the indices of the rows you want to swap\n",
    "row1_index = 0  # Index of the first row (0-based)\n",
    "row2_index = 2  # Index of the second row (0-based)\n",
    "\n",
    "# Swap the rows\n",
    "array[row1_index], array[row2_index] = array[row2_index].copy(), array[row1_index].copy()\n",
    "\n",
    "print(\"Array with Rows Swapped:\")\n",
    "print(array)"
   ]
  },
  {
   "cell_type": "markdown",
   "id": "74b8d7c9",
   "metadata": {},
   "source": [
    "# 17. Write python code to reshape to the next dimension of numpy array?"
   ]
  },
  {
   "cell_type": "code",
   "execution_count": 19,
   "id": "807ba676",
   "metadata": {},
   "outputs": [
    {
     "data": {
      "text/plain": [
       "array([[ 23,  34, 121],\n",
       "       [ 23,  22,  67],\n",
       "       [686, 434, 123]])"
      ]
     },
     "execution_count": 19,
     "metadata": {},
     "output_type": "execute_result"
    }
   ],
   "source": [
    "x=np.array([[23,34, 121],[23,22,67],[686,434,123]])\n",
    "x"
   ]
  },
  {
   "cell_type": "code",
   "execution_count": 20,
   "id": "dadd02c7",
   "metadata": {},
   "outputs": [
    {
     "name": "stdout",
     "output_type": "stream",
     "text": [
      "Original Array:\n",
      "[[ 23  34 121]\n",
      " [ 23  22  67]\n",
      " [686 434 123]]\n",
      "\n",
      "Reshaped Array to the Next Dimension:\n",
      "[[ 23  34 121]\n",
      " [ 23  22  67]\n",
      " [686 434 123]]\n"
     ]
    }
   ],
   "source": [
    "import numpy as np\n",
    "\n",
    "# Create the original array\n",
    "x = np.array([[23, 34, 121],\n",
    "              [23, 22, 67],\n",
    "              [686, 434, 123]])\n",
    "\n",
    "# Reshape the array to the next dimension\n",
    "reshaped_array = x.reshape(-1, x.shape[-1])\n",
    "\n",
    "print(\"Original Array:\")\n",
    "print(x)\n",
    "\n",
    "print(\"\\nReshaped Array to the Next Dimension:\")\n",
    "print(reshaped_array)"
   ]
  }
 ],
 "metadata": {
  "kernelspec": {
   "display_name": "Python 3 (ipykernel)",
   "language": "python",
   "name": "python3"
  },
  "language_info": {
   "codemirror_mode": {
    "name": "ipython",
    "version": 3
   },
   "file_extension": ".py",
   "mimetype": "text/x-python",
   "name": "python",
   "nbconvert_exporter": "python",
   "pygments_lexer": "ipython3",
   "version": "3.11.4"
  }
 },
 "nbformat": 4,
 "nbformat_minor": 5
}
