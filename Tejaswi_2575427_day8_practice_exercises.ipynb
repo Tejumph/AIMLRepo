{
 "cells": [
  {
   "cell_type": "markdown",
   "id": "cc2a4374",
   "metadata": {},
   "source": [
    "# 3. Write a Python program for sorting a list of elements using selection sort algorithm:\n",
    "\n",
    "    a. Assume two lists: Sorted list- Initially empty and Unsorted List-Given input list.\n",
    "    b. In the first iteration, find the smallest element in the unsorted list and place it in the sorted list.\n",
    "    c. In the second iteration, find the smallest element in the unsorted list and place it in the correct position by comparing with the element in the sorted list.\n",
    "    d. In the third iteration, again find the smallest element in the unsorted list and place it in the correct position by comparing with the elements in the sorted list.\n",
    "    e. This process continues till the unsorted list becomes empty.\n",
    "    f. Display the sorted list."
   ]
  },
  {
   "cell_type": "code",
   "execution_count": 1,
   "id": "8696e215",
   "metadata": {},
   "outputs": [
    {
     "name": "stdout",
     "output_type": "stream",
     "text": [
      "Sorted list: [5, 22, 37, 42, 46]\n"
     ]
    }
   ],
   "source": [
    "def selection_sort(a):\n",
    "    n = len(a)\n",
    "    for i in range(n):\n",
    "        min_index = i\n",
    "        for j in range(i + 1, n):\n",
    "            if a[j] < a[min_index]:\n",
    "                min_index = j\n",
    "        a[i], a[min_index] = a[min_index], a[i]\n",
    "list = [46,5,22,42,37]\n",
    "selection_sort(list)\n",
    "print(\"Sorted list:\", list)"
   ]
  },
  {
   "cell_type": "markdown",
   "id": "e19c38df",
   "metadata": {},
   "source": [
    "# 4. Write a Python program for sorting a list of elements using insertion sort algorithm. \n",
    "    a. Assume two lists: Sorted list- Initially empty and Unsorted List-Given input lisi.\n",
    "    b. In the first iteration, take the first element in the unsorted list and insert it ip Sorted list.\n",
    "    c. In the second iteration, take the second element in the given list and compare with the element in the sorted sub list and place it in the correct position.\n",
    "    d. In the third iteration, take the third element in the given list and compare with the elements in the sorted sub list and place the elements in the corect position. \n",
    "    e. This process continues until the last element is inserted in the sorted sub list.\n",
    "    f. Display the sorted elements."
   ]
  },
  {
   "cell_type": "code",
   "execution_count": 2,
   "id": "b0ee446b",
   "metadata": {},
   "outputs": [
    {
     "name": "stdout",
     "output_type": "stream",
     "text": [
      "Sorted list: [7, 22, 37, 46, 48]\n"
     ]
    }
   ],
   "source": [
    "def insertion(arr):\n",
    "    for i in range(1, len(arr)):\n",
    "        key = arr[i]  \n",
    "        j = i - 1\n",
    "        while j >= 0 and key < arr[j]:\n",
    "            arr[j + 1] = arr[j]\n",
    "            j -= 1\n",
    "        arr[j + 1] = key\n",
    "list = [48,22,37,7,46]\n",
    "insertion(list)\n",
    "print(\"Sorted list:\", list)"
   ]
  },
  {
   "cell_type": "markdown",
   "id": "5503dbb7",
   "metadata": {},
   "source": [
    "# 5. Write a Python program that performs merge sort on a list of numbers:\n",
    "    a. Divide: If the given array has zero or one element, return.\n",
    "            i. Otherwise \n",
    "            ii. Divide the input list in to two halves each containing half of the elements. i.e. left half and right half\n",
    "\n",
    "    b. Conquer: Recursively sort the two lists (left half and right half).\n",
    "            1. Call the merge sort on left half.\n",
    "            2. Call the merge sort on right half.\n",
    "    c. Combine: Combine the elements hack in the input list by merging the two sorted lists into a sorted sequence."
   ]
  },
  {
   "cell_type": "code",
   "execution_count": 3,
   "id": "3d911684",
   "metadata": {},
   "outputs": [
    {
     "name": "stdout",
     "output_type": "stream",
     "text": [
      "Original list: [25, 5, 46, 37, 7, 48]\n",
      "Sorted list: [5, 7, 25, 37, 46, 48]\n"
     ]
    }
   ],
   "source": [
    "def merge_sort(arr):\n",
    "    if len(arr) > 1:\n",
    "        mid = len(arr) // 2\n",
    "        left_half = arr[:mid]\n",
    "        right_half = arr[mid:]\n",
    "        merge_sort(left_half)\n",
    "        merge_sort(right_half)\n",
    "        i = j = k = 0\n",
    "        while i < len(left_half) and j < len(right_half):\n",
    "            if left_half[i] < right_half[j]:\n",
    "                arr[k] = left_half[i]\n",
    "                i += 1\n",
    "            else:\n",
    "                arr[k] = right_half[j]\n",
    "                j += 1\n",
    "            k += 1\n",
    "        while i < len(left_half):\n",
    "            arr[k] = left_half[i]\n",
    "            i += 1\n",
    "            k += 1\n",
    "        while j < len(right_half):\n",
    "            arr[k] = right_half[j]\n",
    "            j += 1\n",
    "            k += 1\n",
    "if __name__ == \"__main__\":\n",
    "    numbers = [25,5,46,37,7,48]\n",
    "    print(\"Original list:\", numbers)\n",
    "    merge_sort(numbers)\n",
    "    print(\"Sorted list:\", numbers)"
   ]
  }
 ],
 "metadata": {
  "kernelspec": {
   "display_name": "Python 3 (ipykernel)",
   "language": "python",
   "name": "python3"
  },
  "language_info": {
   "codemirror_mode": {
    "name": "ipython",
    "version": 3
   },
   "file_extension": ".py",
   "mimetype": "text/x-python",
   "name": "python",
   "nbconvert_exporter": "python",
   "pygments_lexer": "ipython3",
   "version": "3.11.4"
  }
 },
 "nbformat": 4,
 "nbformat_minor": 5
}
