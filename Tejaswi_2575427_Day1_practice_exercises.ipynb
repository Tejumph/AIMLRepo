{
 "cells": [
  {
   "cell_type": "markdown",
   "id": "c089d01b",
   "metadata": {},
   "source": [
    "# 1. Manipulate using a list.\n",
    "1.) To add new elements to the end of the list\n",
    "2.) To reverse eleemnts in the list\n",
    "3.)To display the same list of elements multiple times\n",
    "4.)To concatenate two list\n",
    "5.)To sort the elements in the list in ascending order\n"
   ]
  },
  {
   "cell_type": "code",
   "execution_count": 1,
   "id": "eb98d942",
   "metadata": {},
   "outputs": [],
   "source": [
    "lst=[1,2,3,4,5]"
   ]
  },
  {
   "cell_type": "code",
   "execution_count": 3,
   "id": "e6fc69bb",
   "metadata": {},
   "outputs": [],
   "source": [
    "lst.append(6)"
   ]
  },
  {
   "cell_type": "code",
   "execution_count": 4,
   "id": "a85dba9a",
   "metadata": {},
   "outputs": [
    {
     "data": {
      "text/plain": [
       "[1, 2, 3, 4, 5, 6]"
      ]
     },
     "execution_count": 4,
     "metadata": {},
     "output_type": "execute_result"
    }
   ],
   "source": [
    "lst"
   ]
  },
  {
   "cell_type": "code",
   "execution_count": 5,
   "id": "b462f99c",
   "metadata": {},
   "outputs": [],
   "source": [
    "lst.reverse()"
   ]
  },
  {
   "cell_type": "code",
   "execution_count": 6,
   "id": "0b4a9ab4",
   "metadata": {},
   "outputs": [
    {
     "data": {
      "text/plain": [
       "[6, 5, 4, 3, 2, 1]"
      ]
     },
     "execution_count": 6,
     "metadata": {},
     "output_type": "execute_result"
    }
   ],
   "source": [
    "lst"
   ]
  },
  {
   "cell_type": "code",
   "execution_count": 7,
   "id": "62bb3cdc",
   "metadata": {},
   "outputs": [],
   "source": [
    "l=[10,20,30,40]"
   ]
  },
  {
   "cell_type": "code",
   "execution_count": 8,
   "id": "28c9104e",
   "metadata": {},
   "outputs": [],
   "source": [
    "lm=l*5"
   ]
  },
  {
   "cell_type": "code",
   "execution_count": 9,
   "id": "887c70b6",
   "metadata": {},
   "outputs": [
    {
     "data": {
      "text/plain": [
       "[10,\n",
       " 20,\n",
       " 30,\n",
       " 40,\n",
       " 10,\n",
       " 20,\n",
       " 30,\n",
       " 40,\n",
       " 10,\n",
       " 20,\n",
       " 30,\n",
       " 40,\n",
       " 10,\n",
       " 20,\n",
       " 30,\n",
       " 40,\n",
       " 10,\n",
       " 20,\n",
       " 30,\n",
       " 40]"
      ]
     },
     "execution_count": 9,
     "metadata": {},
     "output_type": "execute_result"
    }
   ],
   "source": [
    "lm"
   ]
  },
  {
   "cell_type": "code",
   "execution_count": 10,
   "id": "f2fbc175",
   "metadata": {},
   "outputs": [
    {
     "ename": "SyntaxError",
     "evalue": "invalid syntax. Maybe you meant '==' or ':=' instead of '='? (3323634452.py, line 1)",
     "output_type": "error",
     "traceback": [
      "\u001b[1;36m  Cell \u001b[1;32mIn[10], line 1\u001b[1;36m\u001b[0m\n\u001b[1;33m    l1=['a','b','c','d'], l2=['1','2','3','4']\u001b[0m\n\u001b[1;37m    ^\u001b[0m\n\u001b[1;31mSyntaxError\u001b[0m\u001b[1;31m:\u001b[0m invalid syntax. Maybe you meant '==' or ':=' instead of '='?\n"
     ]
    }
   ],
   "source": [
    "l1=['a','b','c','d'], l2=['1','2','3','4']"
   ]
  },
  {
   "cell_type": "code",
   "execution_count": 11,
   "id": "cb0f8f1c",
   "metadata": {},
   "outputs": [
    {
     "ename": "AttributeError",
     "evalue": "'list' object has no attribute 'concat'",
     "output_type": "error",
     "traceback": [
      "\u001b[1;31m---------------------------------------------------------------------------\u001b[0m",
      "\u001b[1;31mAttributeError\u001b[0m                            Traceback (most recent call last)",
      "Cell \u001b[1;32mIn[11], line 3\u001b[0m\n\u001b[0;32m      1\u001b[0m l1\u001b[38;5;241m=\u001b[39m[\u001b[38;5;241m10\u001b[39m,\u001b[38;5;241m11\u001b[39m,\u001b[38;5;241m12\u001b[39m,\u001b[38;5;241m13\u001b[39m,\u001b[38;5;241m14\u001b[39m]\n\u001b[0;32m      2\u001b[0m l2\u001b[38;5;241m=\u001b[39m[\u001b[38;5;241m15\u001b[39m,\u001b[38;5;241m16\u001b[39m,\u001b[38;5;241m17\u001b[39m,\u001b[38;5;241m18\u001b[39m,\u001b[38;5;241m19\u001b[39m]\n\u001b[1;32m----> 3\u001b[0m l1\u001b[38;5;241m.\u001b[39mconcat(l2)\n",
      "\u001b[1;31mAttributeError\u001b[0m: 'list' object has no attribute 'concat'"
     ]
    }
   ],
   "source": [
    "l1=[10,11,12,13,14]\n",
    "l2=[15,16,17,18,19]\n",
    "l1.concat(l2)"
   ]
  },
  {
   "cell_type": "code",
   "execution_count": 12,
   "id": "97172213",
   "metadata": {},
   "outputs": [
    {
     "data": {
      "text/plain": [
       "[10, 11, 12, 13, 14, 15, 16, 17, 18, 19]"
      ]
     },
     "execution_count": 12,
     "metadata": {},
     "output_type": "execute_result"
    }
   ],
   "source": [
    "l1+l2"
   ]
  },
  {
   "cell_type": "code",
   "execution_count": 13,
   "id": "0ee5075b",
   "metadata": {},
   "outputs": [],
   "source": [
    "l1.sort()"
   ]
  },
  {
   "cell_type": "code",
   "execution_count": 14,
   "id": "f44b1752",
   "metadata": {},
   "outputs": [
    {
     "data": {
      "text/plain": [
       "[10, 11, 12, 13, 14]"
      ]
     },
     "execution_count": 14,
     "metadata": {},
     "output_type": "execute_result"
    }
   ],
   "source": [
    "l1"
   ]
  },
  {
   "cell_type": "code",
   "execution_count": 15,
   "id": "d75b5278",
   "metadata": {},
   "outputs": [],
   "source": [
    "l3=[2,18,9,5,21,64]\n",
    "l3.sort()"
   ]
  },
  {
   "cell_type": "code",
   "execution_count": 16,
   "id": "a848ed5f",
   "metadata": {},
   "outputs": [
    {
     "data": {
      "text/plain": [
       "[2, 5, 9, 18, 21, 64]"
      ]
     },
     "execution_count": 16,
     "metadata": {},
     "output_type": "execute_result"
    }
   ],
   "source": [
    "l3"
   ]
  },
  {
   "cell_type": "markdown",
   "id": "214e4068",
   "metadata": {},
   "source": [
    "# 2. Write a python program to do in tuples\n",
    "1.)Manipulating using tuples\n",
    "2.)To add new elememts to the end of tuples\n",
    "3.)To reverse elements in list\n",
    "4.)To display the elements of the same tuple multiple times\n",
    "5.)To concatenate two tuples\n",
    "6.)To sort the elements in the list in ascending order"
   ]
  },
  {
   "cell_type": "code",
   "execution_count": 17,
   "id": "0eab4ae0",
   "metadata": {},
   "outputs": [
    {
     "data": {
      "text/plain": [
       "3"
      ]
     },
     "execution_count": 17,
     "metadata": {},
     "output_type": "execute_result"
    }
   ],
   "source": [
    "tup=(1,2,3)\n",
    "#Accessing elements\n",
    "tup[2]"
   ]
  },
  {
   "cell_type": "code",
   "execution_count": 18,
   "id": "e6b0a282",
   "metadata": {},
   "outputs": [],
   "source": [
    "#Subset of tuple\n",
    "subset=tup[1:2]"
   ]
  },
  {
   "cell_type": "code",
   "execution_count": 19,
   "id": "60b15bf4",
   "metadata": {},
   "outputs": [
    {
     "data": {
      "text/plain": [
       "(2,)"
      ]
     },
     "execution_count": 19,
     "metadata": {},
     "output_type": "execute_result"
    }
   ],
   "source": [
    "subset"
   ]
  },
  {
   "cell_type": "code",
   "execution_count": 20,
   "id": "757e9ba3",
   "metadata": {},
   "outputs": [],
   "source": [
    "#concatenating tuples\n",
    "tup1=(1,2)\n",
    "tup2=(3,4)\n",
    "tup=tup1+tup2\n"
   ]
  },
  {
   "cell_type": "code",
   "execution_count": 21,
   "id": "324e880d",
   "metadata": {},
   "outputs": [
    {
     "data": {
      "text/plain": [
       "(1, 2, 3, 4)"
      ]
     },
     "execution_count": 21,
     "metadata": {},
     "output_type": "execute_result"
    }
   ],
   "source": [
    "tup"
   ]
  },
  {
   "cell_type": "code",
   "execution_count": 22,
   "id": "85acc3e9",
   "metadata": {},
   "outputs": [
    {
     "data": {
      "text/plain": [
       "4"
      ]
     },
     "execution_count": 22,
     "metadata": {},
     "output_type": "execute_result"
    }
   ],
   "source": [
    "#length of tuple\n",
    "len(tup)"
   ]
  },
  {
   "cell_type": "code",
   "execution_count": 23,
   "id": "95b6f3b1",
   "metadata": {},
   "outputs": [
    {
     "data": {
      "text/plain": [
       "True"
      ]
     },
     "execution_count": 23,
     "metadata": {},
     "output_type": "execute_result"
    }
   ],
   "source": [
    "#checking if elements exists in tuple\n",
    "2 in tup"
   ]
  },
  {
   "cell_type": "code",
   "execution_count": 24,
   "id": "3b413ccd",
   "metadata": {},
   "outputs": [
    {
     "name": "stdout",
     "output_type": "stream",
     "text": [
      "1\n",
      "2\n",
      "3\n",
      "4\n"
     ]
    }
   ],
   "source": [
    "for item in tup:\n",
    "    print(item)"
   ]
  },
  {
   "cell_type": "code",
   "execution_count": 25,
   "id": "fb8fabe7",
   "metadata": {},
   "outputs": [
    {
     "ename": "AttributeError",
     "evalue": "'tuple' object has no attribute 'append'",
     "output_type": "error",
     "traceback": [
      "\u001b[1;31m---------------------------------------------------------------------------\u001b[0m",
      "\u001b[1;31mAttributeError\u001b[0m                            Traceback (most recent call last)",
      "Cell \u001b[1;32mIn[25], line 2\u001b[0m\n\u001b[0;32m      1\u001b[0m tup\u001b[38;5;241m=\u001b[39m(\u001b[38;5;241m10\u001b[39m,\u001b[38;5;241m20\u001b[39m,\u001b[38;5;241m30\u001b[39m,\u001b[38;5;241m40\u001b[39m,\u001b[38;5;241m50\u001b[39m)\n\u001b[1;32m----> 2\u001b[0m tup\u001b[38;5;241m.\u001b[39mappend(\u001b[38;5;241m60\u001b[39m,\u001b[38;5;241m70\u001b[39m)\n\u001b[0;32m      3\u001b[0m tup\n",
      "\u001b[1;31mAttributeError\u001b[0m: 'tuple' object has no attribute 'append'"
     ]
    }
   ],
   "source": [
    "tup=(10,20,30,40,50)\n",
    "tup.append(60,70)\n",
    "tup"
   ]
  },
  {
   "cell_type": "code",
   "execution_count": 26,
   "id": "b70d4098",
   "metadata": {},
   "outputs": [
    {
     "data": {
      "text/plain": [
       "(10, 20, 30, 40, 50, 60, 70, 80)"
      ]
     },
     "execution_count": 26,
     "metadata": {},
     "output_type": "execute_result"
    }
   ],
   "source": [
    "tup=(10,20,30,40,50)\n",
    "tup_add=(60,70,80)\n",
    "tup+tup_add"
   ]
  },
  {
   "cell_type": "code",
   "execution_count": 27,
   "id": "8bbc7956",
   "metadata": {},
   "outputs": [
    {
     "ename": "AttributeError",
     "evalue": "'tuple' object has no attribute 'reverse'",
     "output_type": "error",
     "traceback": [
      "\u001b[1;31m---------------------------------------------------------------------------\u001b[0m",
      "\u001b[1;31mAttributeError\u001b[0m                            Traceback (most recent call last)",
      "Cell \u001b[1;32mIn[27], line 1\u001b[0m\n\u001b[1;32m----> 1\u001b[0m tup\u001b[38;5;241m.\u001b[39mreverse()\n",
      "\u001b[1;31mAttributeError\u001b[0m: 'tuple' object has no attribute 'reverse'"
     ]
    }
   ],
   "source": [
    "tup.reverse()"
   ]
  },
  {
   "cell_type": "code",
   "execution_count": 28,
   "id": "3ddb12e2",
   "metadata": {},
   "outputs": [
    {
     "data": {
      "text/plain": [
       "(50, 40, 30, 20, 10)"
      ]
     },
     "execution_count": 28,
     "metadata": {},
     "output_type": "execute_result"
    }
   ],
   "source": [
    "tup[::-1]"
   ]
  },
  {
   "cell_type": "code",
   "execution_count": 29,
   "id": "9d9706e2",
   "metadata": {},
   "outputs": [
    {
     "data": {
      "text/plain": [
       "(1, 2, 3, 4, 5, 1, 2, 3, 4, 5)"
      ]
     },
     "execution_count": 29,
     "metadata": {},
     "output_type": "execute_result"
    }
   ],
   "source": [
    "tup=(1,2,3,4,5)\n",
    "tup*2"
   ]
  },
  {
   "cell_type": "code",
   "execution_count": 30,
   "id": "8e45dc3f",
   "metadata": {},
   "outputs": [
    {
     "data": {
      "text/plain": [
       "(5, 6, 7, 8, 1, 2, 3, 4)"
      ]
     },
     "execution_count": 30,
     "metadata": {},
     "output_type": "execute_result"
    }
   ],
   "source": [
    "t1=(5,6,7,8)\n",
    "t2=(1,2,3,4)\n",
    "t1+t2"
   ]
  },
  {
   "cell_type": "code",
   "execution_count": 31,
   "id": "f638952e",
   "metadata": {},
   "outputs": [
    {
     "ename": "AttributeError",
     "evalue": "'tuple' object has no attribute 'sort'",
     "output_type": "error",
     "traceback": [
      "\u001b[1;31m---------------------------------------------------------------------------\u001b[0m",
      "\u001b[1;31mAttributeError\u001b[0m                            Traceback (most recent call last)",
      "Cell \u001b[1;32mIn[31], line 1\u001b[0m\n\u001b[1;32m----> 1\u001b[0m t1\u001b[38;5;241m.\u001b[39msort()\n",
      "\u001b[1;31mAttributeError\u001b[0m: 'tuple' object has no attribute 'sort'"
     ]
    }
   ],
   "source": [
    "t1.sort()"
   ]
  },
  {
   "cell_type": "code",
   "execution_count": 32,
   "id": "f2020546",
   "metadata": {},
   "outputs": [
    {
     "data": {
      "text/plain": [
       "[8, 2, 5, 10, 92]"
      ]
     },
     "execution_count": 32,
     "metadata": {},
     "output_type": "execute_result"
    }
   ],
   "source": [
    "tup=(8,2,5,10,92)\n",
    "lst=list(tup)\n",
    "lst"
   ]
  },
  {
   "cell_type": "code",
   "execution_count": 33,
   "id": "50c5bcf5",
   "metadata": {},
   "outputs": [],
   "source": [
    "lst.sort()\n"
   ]
  },
  {
   "cell_type": "code",
   "execution_count": 34,
   "id": "431bf107",
   "metadata": {},
   "outputs": [
    {
     "data": {
      "text/plain": [
       "(2, 5, 8, 10, 92)"
      ]
     },
     "execution_count": 34,
     "metadata": {},
     "output_type": "execute_result"
    }
   ],
   "source": [
    "sort_tup=tuple(lst)\n",
    "sort_tup"
   ]
  },
  {
   "cell_type": "markdown",
   "id": "570a7206",
   "metadata": {},
   "source": [
    "# 3.Write a python program to implement the following using list.\n",
    "\n",
    "Create a list with integers (minimum 10 numbers)\n",
    "\n",
    "How to display the last number in the list\n",
    "\n",
    "Command for displaying the values from the list [0:4]\n",
    "\n",
    "Command for displaying the values from the list [2:]\n",
    "\n",
    "Command for displaying the values from the list [:6]\n"
   ]
  },
  {
   "cell_type": "code",
   "execution_count": 1,
   "id": "2bceb490",
   "metadata": {},
   "outputs": [],
   "source": [
    "\n",
    "# Create a list with integers (minimum 10 numbers)\n",
    "my_list = [1, 2, 3, 4, 5, 6, 7, 8, 9, 10]\n",
    "\n"
   ]
  },
  {
   "cell_type": "code",
   "execution_count": 2,
   "id": "3cc78d7b",
   "metadata": {},
   "outputs": [
    {
     "name": "stdout",
     "output_type": "stream",
     "text": [
      "Last number in the list: 10\n"
     ]
    }
   ],
   "source": [
    "# Display the last number in the list\n",
    "last_number = my_list[-1]\n",
    "print(\"Last number in the list:\", last_number)\n",
    "\n",
    "\n"
   ]
  },
  {
   "cell_type": "code",
   "execution_count": 3,
   "id": "2c0f84de",
   "metadata": {},
   "outputs": [
    {
     "name": "stdout",
     "output_type": "stream",
     "text": [
      "Values from the list [0:4]: [1, 2, 3, 4]\n"
     ]
    }
   ],
   "source": [
    "# Display values from the list [0:4]\n",
    "subset1 = my_list[0:4]\n",
    "print(\"Values from the list [0:4]:\", subset1)\n",
    "\n"
   ]
  },
  {
   "cell_type": "code",
   "execution_count": 4,
   "id": "09c7383a",
   "metadata": {},
   "outputs": [
    {
     "name": "stdout",
     "output_type": "stream",
     "text": [
      "Values from the list [2:]: [3, 4, 5, 6, 7, 8, 9, 10]\n"
     ]
    }
   ],
   "source": [
    "\n",
    "# Display values from the list [2:]\n",
    "subset2 = my_list[2:]\n",
    "print(\"Values from the list [2:]:\", subset2)\n",
    "\n"
   ]
  },
  {
   "cell_type": "code",
   "execution_count": 5,
   "id": "de84e295",
   "metadata": {},
   "outputs": [
    {
     "name": "stdout",
     "output_type": "stream",
     "text": [
      "Values from the list [:6]: [1, 2, 3, 4, 5, 6]\n"
     ]
    }
   ],
   "source": [
    "# Display values from the list [:6]\n",
    "subset3 = my_list[:6]\n",
    "print(\"Values from the list [:6]:\", subset3)"
   ]
  },
  {
   "cell_type": "markdown",
   "id": "970f1a9c",
   "metadata": {},
   "source": [
    "# 4. Write a python program:tuple1=(10,50,20,40,30)\n",
    "    1.)To display elements 10 and 50 from tuple1\n",
    "    2.)To display the length of tuple 1\n",
    "    3.)To find the minimum element from tuple1\n",
    "    4.)To add all elemets in the tuple1\n",
    "    5.)To disply the same tuple1 multiple times"
   ]
  },
  {
   "cell_type": "code",
   "execution_count": 35,
   "id": "217f273d",
   "metadata": {},
   "outputs": [
    {
     "data": {
      "text/plain": [
       "(10,)"
      ]
     },
     "execution_count": 35,
     "metadata": {},
     "output_type": "execute_result"
    }
   ],
   "source": [
    "tuple1=(10,50,20,40,30)\n",
    "tuple1[:1]"
   ]
  },
  {
   "cell_type": "code",
   "execution_count": 36,
   "id": "11f480fb",
   "metadata": {},
   "outputs": [
    {
     "data": {
      "text/plain": [
       "(10, 50)"
      ]
     },
     "execution_count": 36,
     "metadata": {},
     "output_type": "execute_result"
    }
   ],
   "source": [
    "tuple1[0:2]"
   ]
  },
  {
   "cell_type": "code",
   "execution_count": 37,
   "id": "9765af4f",
   "metadata": {},
   "outputs": [
    {
     "data": {
      "text/plain": [
       "5"
      ]
     },
     "execution_count": 37,
     "metadata": {},
     "output_type": "execute_result"
    }
   ],
   "source": [
    "len(tuple1)"
   ]
  },
  {
   "cell_type": "code",
   "execution_count": 38,
   "id": "4125a0ec",
   "metadata": {},
   "outputs": [
    {
     "data": {
      "text/plain": [
       "[10, 50, 20, 40, 30]"
      ]
     },
     "execution_count": 38,
     "metadata": {},
     "output_type": "execute_result"
    }
   ],
   "source": [
    "lst=list(tuple1)\n",
    "lst"
   ]
  },
  {
   "cell_type": "code",
   "execution_count": 39,
   "id": "948558a7",
   "metadata": {},
   "outputs": [],
   "source": [
    "lst.sort()\n",
    "sort_tup=tuple(lst)\n"
   ]
  },
  {
   "cell_type": "code",
   "execution_count": 40,
   "id": "b94d5f5c",
   "metadata": {},
   "outputs": [
    {
     "data": {
      "text/plain": [
       "10"
      ]
     },
     "execution_count": 40,
     "metadata": {},
     "output_type": "execute_result"
    }
   ],
   "source": [
    "sort_tup[0]"
   ]
  },
  {
   "cell_type": "code",
   "execution_count": 41,
   "id": "30e1a98e",
   "metadata": {},
   "outputs": [
    {
     "name": "stdout",
     "output_type": "stream",
     "text": [
      "150\n"
     ]
    }
   ],
   "source": [
    "#add all elements in tuple1\n",
    "tuple1=(10,50,20,40,30)\n",
    "total=0\n",
    "for element in tuple1:\n",
    "    total+=element\n",
    "    \n",
    "print(total)"
   ]
  },
  {
   "cell_type": "code",
   "execution_count": 42,
   "id": "29dec942",
   "metadata": {},
   "outputs": [
    {
     "data": {
      "text/plain": [
       "(10,\n",
       " 50,\n",
       " 20,\n",
       " 40,\n",
       " 30,\n",
       " 10,\n",
       " 50,\n",
       " 20,\n",
       " 40,\n",
       " 30,\n",
       " 10,\n",
       " 50,\n",
       " 20,\n",
       " 40,\n",
       " 30,\n",
       " 10,\n",
       " 50,\n",
       " 20,\n",
       " 40,\n",
       " 30,\n",
       " 10,\n",
       " 50,\n",
       " 20,\n",
       " 40,\n",
       " 30)"
      ]
     },
     "execution_count": 42,
     "metadata": {},
     "output_type": "execute_result"
    }
   ],
   "source": [
    "5*tuple1"
   ]
  },
  {
   "cell_type": "markdown",
   "id": "f5f7e38c",
   "metadata": {},
   "source": [
    "# 5. Write a python program:\n",
    "    1.)To calculate the length of string\n",
    "    2.)To revere words in a string\n",
    "    3.)To display the same string multiple times\n",
    "    4.)To concatenate two strings\n",
    "    5.)Str1=\"South India\", using string slicing to display \"India\""
   ]
  },
  {
   "cell_type": "code",
   "execution_count": 43,
   "id": "c7f9f841",
   "metadata": {},
   "outputs": [
    {
     "data": {
      "text/plain": [
       "11"
      ]
     },
     "execution_count": 43,
     "metadata": {},
     "output_type": "execute_result"
    }
   ],
   "source": [
    "str=\"Hello world\"\n",
    "len(str)"
   ]
  },
  {
   "cell_type": "code",
   "execution_count": 44,
   "id": "5bfb7ad0",
   "metadata": {},
   "outputs": [
    {
     "data": {
      "text/plain": [
       "'dlrow olleH'"
      ]
     },
     "execution_count": 44,
     "metadata": {},
     "output_type": "execute_result"
    }
   ],
   "source": [
    "str[::-1]"
   ]
  },
  {
   "cell_type": "code",
   "execution_count": 45,
   "id": "05e42925",
   "metadata": {},
   "outputs": [
    {
     "data": {
      "text/plain": [
       "'Hello worldHello worldHello worldHello worldHello world'"
      ]
     },
     "execution_count": 45,
     "metadata": {},
     "output_type": "execute_result"
    }
   ],
   "source": [
    "str*5"
   ]
  },
  {
   "cell_type": "code",
   "execution_count": 46,
   "id": "6aa0c766",
   "metadata": {},
   "outputs": [
    {
     "data": {
      "text/plain": [
       "'Hello World'"
      ]
     },
     "execution_count": 46,
     "metadata": {},
     "output_type": "execute_result"
    }
   ],
   "source": [
    "s1='Hello'\n",
    "s2='World'\n",
    "s1+\" \"+s2"
   ]
  },
  {
   "cell_type": "code",
   "execution_count": 47,
   "id": "31210bb2",
   "metadata": {},
   "outputs": [
    {
     "data": {
      "text/plain": [
       "'India'"
      ]
     },
     "execution_count": 47,
     "metadata": {},
     "output_type": "execute_result"
    }
   ],
   "source": [
    "Str1=\"South India\"\n",
    "Str1[6:]"
   ]
  },
  {
   "cell_type": "code",
   "execution_count": 48,
   "id": "84923a1a",
   "metadata": {},
   "outputs": [
    {
     "ename": "SyntaxError",
     "evalue": "unmatched ')' (2734154045.py, line 2)",
     "output_type": "error",
     "traceback": [
      "\u001b[1;36m  Cell \u001b[1;32mIn[48], line 2\u001b[1;36m\u001b[0m\n\u001b[1;33m    1.)Creating dictionary\u001b[0m\n\u001b[1;37m      ^\u001b[0m\n\u001b[1;31mSyntaxError\u001b[0m\u001b[1;31m:\u001b[0m unmatched ')'\n"
     ]
    }
   ],
   "source": [
    "Perform the following:\n",
    "    1.)Creating dictionary\n",
    "    2.)Accessing values and keys in dictionary\n",
    "    3.)Updating dictionary using a function\n",
    "    4.)Clear and delete the dictionary values\n",
    "    "
   ]
  },
  {
   "cell_type": "markdown",
   "id": "e56ee9e7",
   "metadata": {},
   "source": [
    "# 6. Perform the following:\n",
    "    1.)Creating dictionary\n",
    "    2.)Accessing values and keys in dictionary\n",
    "    3.)Updating dictionary using a function\n",
    "    4.)Clear and delete the dictionary values\n",
    "    "
   ]
  },
  {
   "cell_type": "code",
   "execution_count": 49,
   "id": "6377e647",
   "metadata": {},
   "outputs": [],
   "source": [
    "person={'f_name':'John','l_name':'Federer','age':35,'city':'Delhi'}"
   ]
  },
  {
   "cell_type": "code",
   "execution_count": 50,
   "id": "6c3aebe6",
   "metadata": {},
   "outputs": [
    {
     "data": {
      "text/plain": [
       "{'f_name': 'John', 'l_name': 'Federer', 'age': 35, 'city': 'Delhi'}"
      ]
     },
     "execution_count": 50,
     "metadata": {},
     "output_type": "execute_result"
    }
   ],
   "source": [
    "person"
   ]
  },
  {
   "cell_type": "code",
   "execution_count": 51,
   "id": "7c221c8d",
   "metadata": {},
   "outputs": [
    {
     "data": {
      "text/plain": [
       "35"
      ]
     },
     "execution_count": 51,
     "metadata": {},
     "output_type": "execute_result"
    }
   ],
   "source": [
    "person['age']"
   ]
  },
  {
   "cell_type": "code",
   "execution_count": 52,
   "id": "f7899781",
   "metadata": {},
   "outputs": [
    {
     "ename": "KeyError",
     "evalue": "35",
     "output_type": "error",
     "traceback": [
      "\u001b[1;31m---------------------------------------------------------------------------\u001b[0m",
      "\u001b[1;31mKeyError\u001b[0m                                  Traceback (most recent call last)",
      "Cell \u001b[1;32mIn[52], line 1\u001b[0m\n\u001b[1;32m----> 1\u001b[0m person[\u001b[38;5;241m35\u001b[39m]\n",
      "\u001b[1;31mKeyError\u001b[0m: 35"
     ]
    }
   ],
   "source": [
    "person[35]"
   ]
  },
  {
   "cell_type": "code",
   "execution_count": 53,
   "id": "9901f7dc",
   "metadata": {},
   "outputs": [
    {
     "data": {
      "text/plain": [
       "'Delhi'"
      ]
     },
     "execution_count": 53,
     "metadata": {},
     "output_type": "execute_result"
    }
   ],
   "source": [
    "person['city']"
   ]
  },
  {
   "cell_type": "code",
   "execution_count": 54,
   "id": "50166346",
   "metadata": {},
   "outputs": [
    {
     "data": {
      "text/plain": [
       "dict_values(['John', 'Federer', 35, 'Delhi'])"
      ]
     },
     "execution_count": 54,
     "metadata": {},
     "output_type": "execute_result"
    }
   ],
   "source": [
    "person.values()"
   ]
  },
  {
   "cell_type": "code",
   "execution_count": 55,
   "id": "0fdc03e1",
   "metadata": {},
   "outputs": [
    {
     "data": {
      "text/plain": [
       "dict_keys(['f_name', 'l_name', 'age', 'city'])"
      ]
     },
     "execution_count": 55,
     "metadata": {},
     "output_type": "execute_result"
    }
   ],
   "source": [
    "person.keys()"
   ]
  },
  {
   "cell_type": "code",
   "execution_count": 56,
   "id": "6b818332",
   "metadata": {},
   "outputs": [
    {
     "data": {
      "text/plain": [
       "dict_items([('f_name', 'John'), ('l_name', 'Federer'), ('age', 35), ('city', 'Delhi')])"
      ]
     },
     "execution_count": 56,
     "metadata": {},
     "output_type": "execute_result"
    }
   ],
   "source": [
    "person.items()"
   ]
  },
  {
   "cell_type": "code",
   "execution_count": 57,
   "id": "530d5dc5",
   "metadata": {},
   "outputs": [],
   "source": [
    "person.update({'age':'30'})"
   ]
  },
  {
   "cell_type": "code",
   "execution_count": 58,
   "id": "c25bab14",
   "metadata": {},
   "outputs": [
    {
     "data": {
      "text/plain": [
       "{'f_name': 'John', 'l_name': 'Federer', 'age': '30', 'city': 'Delhi'}"
      ]
     },
     "execution_count": 58,
     "metadata": {},
     "output_type": "execute_result"
    }
   ],
   "source": [
    "person"
   ]
  },
  {
   "cell_type": "code",
   "execution_count": 59,
   "id": "178aa9c3",
   "metadata": {},
   "outputs": [
    {
     "data": {
      "text/plain": [
       "'30'"
      ]
     },
     "execution_count": 59,
     "metadata": {},
     "output_type": "execute_result"
    }
   ],
   "source": [
    "person.pop('age')"
   ]
  },
  {
   "cell_type": "code",
   "execution_count": 60,
   "id": "1f2b4ec1",
   "metadata": {},
   "outputs": [
    {
     "data": {
      "text/plain": [
       "{'f_name': 'John', 'l_name': 'Federer', 'city': 'Delhi'}"
      ]
     },
     "execution_count": 60,
     "metadata": {},
     "output_type": "execute_result"
    }
   ],
   "source": [
    "person"
   ]
  },
  {
   "cell_type": "code",
   "execution_count": 61,
   "id": "257e51ad",
   "metadata": {},
   "outputs": [
    {
     "data": {
      "text/plain": [
       "'Federer'"
      ]
     },
     "execution_count": 61,
     "metadata": {},
     "output_type": "execute_result"
    }
   ],
   "source": [
    "person.pop('l_name')"
   ]
  },
  {
   "cell_type": "code",
   "execution_count": 62,
   "id": "eb1a0444",
   "metadata": {},
   "outputs": [],
   "source": [
    "person.update({'age':40})"
   ]
  },
  {
   "cell_type": "code",
   "execution_count": 63,
   "id": "5fb25353",
   "metadata": {},
   "outputs": [
    {
     "data": {
      "text/plain": [
       "{'f_name': 'John', 'city': 'Delhi', 'age': 40}"
      ]
     },
     "execution_count": 63,
     "metadata": {},
     "output_type": "execute_result"
    }
   ],
   "source": [
    "person"
   ]
  },
  {
   "cell_type": "markdown",
   "id": "32d440b2",
   "metadata": {},
   "source": [
    "# 7. Python program to insert a number to any position in a list\n"
   ]
  },
  {
   "cell_type": "code",
   "execution_count": 64,
   "id": "c80039e5",
   "metadata": {},
   "outputs": [],
   "source": [
    "lst=[1,2,3,5,6,8]\n",
    "lst.insert(3,4)"
   ]
  },
  {
   "cell_type": "code",
   "execution_count": 65,
   "id": "583946a6",
   "metadata": {},
   "outputs": [
    {
     "data": {
      "text/plain": [
       "[1, 2, 3, 4, 5, 6, 8]"
      ]
     },
     "execution_count": 65,
     "metadata": {},
     "output_type": "execute_result"
    }
   ],
   "source": [
    "lst"
   ]
  },
  {
   "cell_type": "code",
   "execution_count": 66,
   "id": "cbdfe81e",
   "metadata": {},
   "outputs": [],
   "source": [
    "lst.insert(6,'seven')"
   ]
  },
  {
   "cell_type": "code",
   "execution_count": 67,
   "id": "0d76b565",
   "metadata": {},
   "outputs": [
    {
     "data": {
      "text/plain": [
       "[1, 2, 3, 4, 5, 6, 'seven', 8]"
      ]
     },
     "execution_count": 67,
     "metadata": {},
     "output_type": "execute_result"
    }
   ],
   "source": [
    "lst"
   ]
  },
  {
   "cell_type": "markdown",
   "id": "443fa2e8",
   "metadata": {},
   "source": [
    "# 8. Python program to delete an element from alist by index"
   ]
  },
  {
   "cell_type": "code",
   "execution_count": 68,
   "id": "add6f3cd",
   "metadata": {},
   "outputs": [
    {
     "ename": "TypeError",
     "evalue": "descriptor 'remove' for 'list' objects doesn't apply to a 'int' object",
     "output_type": "error",
     "traceback": [
      "\u001b[1;31m---------------------------------------------------------------------------\u001b[0m",
      "\u001b[1;31mTypeError\u001b[0m                                 Traceback (most recent call last)",
      "Cell \u001b[1;32mIn[68], line 2\u001b[0m\n\u001b[0;32m      1\u001b[0m lst\u001b[38;5;241m=\u001b[39m[\u001b[38;5;241m1\u001b[39m,\u001b[38;5;241m2\u001b[39m,\u001b[38;5;241m3\u001b[39m,\u001b[38;5;241m4\u001b[39m,\u001b[38;5;241m5\u001b[39m,\u001b[38;5;241m6\u001b[39m,\u001b[38;5;241m7\u001b[39m,\u001b[38;5;241m8\u001b[39m,\u001b[38;5;241m9\u001b[39m]\n\u001b[1;32m----> 2\u001b[0m \u001b[38;5;28mlist\u001b[39m\u001b[38;5;241m.\u001b[39mremove(\u001b[38;5;241m3\u001b[39m)\n",
      "\u001b[1;31mTypeError\u001b[0m: descriptor 'remove' for 'list' objects doesn't apply to a 'int' object"
     ]
    }
   ],
   "source": [
    "lst=[1,2,3,4,5,6,7,8,9]\n",
    "list.remove(3)"
   ]
  },
  {
   "cell_type": "code",
   "execution_count": 69,
   "id": "90e42e57",
   "metadata": {},
   "outputs": [],
   "source": [
    "del lst[3]"
   ]
  },
  {
   "cell_type": "code",
   "execution_count": 70,
   "id": "89a9986f",
   "metadata": {},
   "outputs": [
    {
     "data": {
      "text/plain": [
       "[1, 2, 3, 5, 6, 7, 8, 9]"
      ]
     },
     "execution_count": 70,
     "metadata": {},
     "output_type": "execute_result"
    }
   ],
   "source": [
    "lst"
   ]
  },
  {
   "cell_type": "code",
   "execution_count": 71,
   "id": "16ca9f1d",
   "metadata": {},
   "outputs": [],
   "source": [
    "del lst[0]"
   ]
  },
  {
   "cell_type": "code",
   "execution_count": 72,
   "id": "d8d19dd7",
   "metadata": {},
   "outputs": [
    {
     "data": {
      "text/plain": [
       "[2, 3, 5, 6, 7, 8, 9]"
      ]
     },
     "execution_count": 72,
     "metadata": {},
     "output_type": "execute_result"
    }
   ],
   "source": [
    "lst"
   ]
  },
  {
   "cell_type": "markdown",
   "id": "0ad3e7d5",
   "metadata": {},
   "source": [
    "# 9. Python program to display a number from 1 to 100"
   ]
  },
  {
   "cell_type": "code",
   "execution_count": 73,
   "id": "3d04277f",
   "metadata": {},
   "outputs": [
    {
     "name": "stdout",
     "output_type": "stream",
     "text": [
      "1\n",
      "2\n",
      "3\n",
      "4\n",
      "5\n",
      "6\n",
      "7\n",
      "8\n",
      "9\n",
      "10\n",
      "11\n",
      "12\n",
      "13\n",
      "14\n",
      "15\n",
      "16\n",
      "17\n",
      "18\n",
      "19\n",
      "20\n",
      "21\n",
      "22\n",
      "23\n",
      "24\n",
      "25\n",
      "26\n",
      "27\n",
      "28\n",
      "29\n",
      "30\n",
      "31\n",
      "32\n",
      "33\n",
      "34\n",
      "35\n",
      "36\n",
      "37\n",
      "38\n",
      "39\n",
      "40\n",
      "41\n",
      "42\n",
      "43\n",
      "44\n",
      "45\n",
      "46\n",
      "47\n",
      "48\n",
      "49\n",
      "50\n",
      "51\n",
      "52\n",
      "53\n",
      "54\n",
      "55\n",
      "56\n",
      "57\n",
      "58\n",
      "59\n",
      "60\n",
      "61\n",
      "62\n",
      "63\n",
      "64\n",
      "65\n",
      "66\n",
      "67\n",
      "68\n",
      "69\n",
      "70\n",
      "71\n",
      "72\n",
      "73\n",
      "74\n",
      "75\n",
      "76\n",
      "77\n",
      "78\n",
      "79\n",
      "80\n",
      "81\n",
      "82\n",
      "83\n",
      "84\n",
      "85\n",
      "86\n",
      "87\n",
      "88\n",
      "89\n",
      "90\n",
      "91\n",
      "92\n",
      "93\n",
      "94\n",
      "95\n",
      "96\n",
      "97\n",
      "98\n",
      "99\n",
      "100\n"
     ]
    }
   ],
   "source": [
    "for num in range(1,101):\n",
    "    print(num)"
   ]
  },
  {
   "cell_type": "markdown",
   "id": "f87115c5",
   "metadata": {},
   "source": [
    "# 10. Python program to find the sum of all items in a tuple"
   ]
  },
  {
   "cell_type": "code",
   "execution_count": 74,
   "id": "dd98cc98",
   "metadata": {},
   "outputs": [
    {
     "name": "stdout",
     "output_type": "stream",
     "text": [
      "15\n"
     ]
    }
   ],
   "source": [
    "tup=(1,2,3,4,5)\n",
    "total=0\n",
    "for num in tup:\n",
    "    total+=num\n",
    "print(total)"
   ]
  },
  {
   "cell_type": "markdown",
   "id": "67b6d844",
   "metadata": {},
   "source": [
    "# 11. Create a dictionary containing three lambda functions square,cube and square root\n",
    "1.)Eg.dict={'Square':function for squaring,'Cube':function for cube,'square root':function for square root}\n",
    "2.)Pass the values (input from the user)to the functions in the dictionary respectively\n",
    "3.)Then add the outputs of each function and print it"
   ]
  },
  {
   "cell_type": "markdown",
   "id": "5ad166a3",
   "metadata": {},
   "source": [
    "# Write python program to find the first N prime numbers"
   ]
  },
  {
   "cell_type": "code",
   "execution_count": 2,
   "id": "0e6bb955",
   "metadata": {},
   "outputs": [
    {
     "name": "stdout",
     "output_type": "stream",
     "text": [
      "Enter a number: 2\n",
      "Sum of outputs: 13.414213562373096\n"
     ]
    }
   ],
   "source": [
    "dict = {\n",
    "    'Square': lambda x: x**2,\n",
    "    'Cube': lambda x: x**3,\n",
    "    'Squareroot': lambda x: x**0.5\n",
    "       }\n",
    "\n",
    "n=float(input(\"Enter a number: \"))\n",
    "r= 0\n",
    "for fname, f in dict.items():\n",
    "    output = f(n)\n",
    "    r += output\n",
    "\n",
    "print(\"Sum of outputs:\", r)"
   ]
  },
  {
   "cell_type": "markdown",
   "id": "54ed5bb3",
   "metadata": {},
   "source": [
    "# 12. A list of words is given.Find the words from the list that have their second character in uppercase. ls=['hello','Dear','hOw','ARe','You']"
   ]
  },
  {
   "cell_type": "code",
   "execution_count": 3,
   "id": "cf0732dd",
   "metadata": {},
   "outputs": [
    {
     "name": "stdout",
     "output_type": "stream",
     "text": [
      "['hOw', 'ARe']\n"
     ]
    }
   ],
   "source": [
    "lst = ['hello', 'Dear', 'hOw', 'ARe', 'You']\n",
    "caplst = []\n",
    "\n",
    "for w in lst:\n",
    "    if len(w) > 1 and w[1].isupper():\n",
    "        caplst.append(w)\n",
    "\n",
    "print(caplst)\n",
    "\n",
    "\n",
    "\n",
    "\n",
    "\n"
   ]
  },
  {
   "cell_type": "markdown",
   "id": "8814a28f",
   "metadata": {},
   "source": [
    "# 13. A dictionary of names and their weights on earth is given. Find how much they will weigh on the moon.(use map and lambda functions)Formula:wMoon=(wEarth*GMoon)/GEarth\n",
    "1.) #Weight of people in kg\n",
    "         WeightOnEarth ={'John':45,'Shelly':65,'Marry':35}\n",
    "2.) #Gravitational force on the Moon:1.62 m/s2\n",
    "         GMoon= 1.622\n",
    "3.) # Gravitational force on the earth:9.81 m/s2\n",
    "         GEarth =9.81\n",
    "    "
   ]
  },
  {
   "cell_type": "code",
   "execution_count": 4,
   "id": "b335c6f5",
   "metadata": {},
   "outputs": [
    {
     "name": "stdout",
     "output_type": "stream",
     "text": [
      "John's weight on the Moon: 7.44 kg\n",
      "Shelly's weight on the Moon: 10.75 kg\n",
      "Marry's weight on the Moon: 5.79 kg\n"
     ]
    }
   ],
   "source": [
    "\n",
    "wEarth = {'John': 45, 'Shelly': 65, 'Marry': 35}\n",
    "GMoon = 1.622\n",
    "GEarth = 9.81\n",
    "\n",
    "wMoon = list(map(lambda p: (p[0], (p[1] * GMoon) / GEarth), wEarth.items()))\n",
    "for p, wMoon in wMoon:\n",
    "    print(f\"{p}'s weight on the Moon: {wMoon:.2f} kg\")\n",
    "\n",
    "\n",
    "\n",
    "\n"
   ]
  },
  {
   "cell_type": "markdown",
   "id": "e12e5687",
   "metadata": {},
   "source": [
    "# Control Structures\n"
   ]
  },
  {
   "cell_type": "markdown",
   "id": "f2a232fd",
   "metadata": {},
   "source": [
    "# 1. Write a python program to find the first N prime numbers"
   ]
  },
  {
   "cell_type": "code",
   "execution_count": 36,
   "id": "5cf8bcde",
   "metadata": {},
   "outputs": [
    {
     "name": "stdout",
     "output_type": "stream",
     "text": [
      "Enter the value of n: 5\n",
      "The first 5 prime numbers are: [2, 3, 5, 7, 11]\n"
     ]
    }
   ],
   "source": [
    "def prime(n):\n",
    "    if n<= 1:\n",
    "        return False\n",
    "    elif n<= 3:\n",
    "        return True\n",
    "    elif n%2==0 or n%3== 0:\n",
    "        return False\n",
    "    i = 5\n",
    "    while i * i <= n:\n",
    "        if n%i==0 or n%(i + 2)==0:\n",
    "            return False\n",
    "        i += 6\n",
    "    return True\n",
    "\n",
    "def fun(n):\n",
    "    lst = []\n",
    "    num = 2\n",
    "    while len(lst) < n:\n",
    "        if prime(num):\n",
    "            lst.append(num)\n",
    "        num += 1\n",
    "    return lst\n",
    "\n",
    "n = int(input(\"Enter the value of n: \"))\n",
    "listofprime= fun(n)\n",
    "print(f\"The first {n} prime numbers are: {listofprime}\")"
   ]
  },
  {
   "cell_type": "markdown",
   "id": "e8607401",
   "metadata": {},
   "source": [
    "# 2. Write the python code that calculates the salary of an employee.Prompt the user to enter the Basic salary,HRA,TA and DA. Add these components to calculate the gross salary.Also,deduct 10% of salary from the gross salary to be paid as tax and display gross minus tax as net salary"
   ]
  },
  {
   "cell_type": "code",
   "execution_count": 8,
   "id": "1a1d54fb",
   "metadata": {},
   "outputs": [
    {
     "name": "stdout",
     "output_type": "stream",
     "text": [
      "Enter Basic Salary: 30000\n",
      "Enter HRA: 10000\n",
      "Enter TA: 3000\n",
      "Enter DA: 2000\n",
      "Gross Salary: 45000.0\n",
      "Net Salary: 40500.0\n"
     ]
    }
   ],
   "source": [
    "basic = float(input(\"Enter Basic Salary: \"))\n",
    "hra = float(input(\"Enter HRA: \"))\n",
    "ta = float(input(\"Enter TA: \"))\n",
    "da = float(input(\"Enter DA: \"))\n",
    "gross= basic+hra+ta+da\n",
    "tax= 0.10 * gross\n",
    "net= gross-tax\n",
    "print(f\"Gross Salary: {gross}\")\n",
    "print(f\"Net Salary: {net}\")"
   ]
  },
  {
   "cell_type": "markdown",
   "id": "fd190284",
   "metadata": {},
   "source": [
    "# 3.Write a python program to search for a string in the given list"
   ]
  },
  {
   "cell_type": "code",
   "execution_count": 10,
   "id": "8b006979",
   "metadata": {},
   "outputs": [
    {
     "name": "stdout",
     "output_type": "stream",
     "text": [
      "The string 'github' is found in the given list at indices: [2, 4]\n"
     ]
    }
   ],
   "source": [
    "def search(str,lst):\n",
    "    final= []\n",
    "    for i, item in enumerate(lst):\n",
    "        if str in item:\n",
    "            final.append(i)\n",
    "    \n",
    "    if final:\n",
    "        print(f\"The string '{str}' is found in the given list at indices: {final}\")\n",
    "    else:\n",
    "        print(f\"The string '{str}' not found in the list.\")\n",
    "\n",
    "lst= [\"python\", \"java\", \"github\", \"jupyter\", \"github\"]\n",
    "str = \"github\"\n",
    "search(str,lst)"
   ]
  },
  {
   "cell_type": "markdown",
   "id": "c5a178cf",
   "metadata": {},
   "source": [
    "# 4.Write a python function that accepts a string and calculates the number of upper-case letters and lower-case letters"
   ]
  },
  {
   "cell_type": "code",
   "execution_count": 11,
   "id": "92160a8b",
   "metadata": {},
   "outputs": [
    {
     "name": "stdout",
     "output_type": "stream",
     "text": [
      "We are learning Python\n",
      "Uppercase letters: 2\n",
      "Lowercase letters: 17\n"
     ]
    }
   ],
   "source": [
    "def fun(str):\n",
    "    ucount = 0\n",
    "    lcount = 0\n",
    "    \n",
    "    for i in str:\n",
    "        if i.isupper():\n",
    "            ucount += 1\n",
    "        elif i.islower():\n",
    "            lcount += 1\n",
    "    return ucount, lcount\n",
    "\n",
    "\n",
    "str = input()\n",
    "ucount,lcount = fun(str)\n",
    "print(\"Uppercase letters:\", ucount)\n",
    "print(\"Lowercase letters:\", lcount)\n"
   ]
  },
  {
   "cell_type": "markdown",
   "id": "0ef9662d",
   "metadata": {},
   "source": [
    "# 5.Write a python program to display the sum of odd numbers and even numbers that fall between 12 and 37"
   ]
  },
  {
   "cell_type": "code",
   "execution_count": 12,
   "id": "568d0d64",
   "metadata": {},
   "outputs": [
    {
     "name": "stdout",
     "output_type": "stream",
     "text": [
      "Sum of even numbers that fall between 12 and 37 is: 312\n",
      "Sum of odd numbers that fall between 12 and 37 is: 325\n"
     ]
    }
   ],
   "source": [
    "odd = 0\n",
    "even = 0\n",
    "for n in range(12,38):\n",
    "    if n % 2 == 0:\n",
    "        even += n\n",
    "    else:\n",
    "        odd += n\n",
    "print(\"Sum of even numbers that fall between 12 and 37 is:\",even)\n",
    "print(\"Sum of odd numbers that fall between 12 and 37 is:\",odd)\n"
   ]
  },
  {
   "cell_type": "markdown",
   "id": "97d7d934",
   "metadata": {},
   "source": [
    "# 6.Write a python program  to print the table of any number"
   ]
  },
  {
   "cell_type": "code",
   "execution_count": 13,
   "id": "0c254dfe",
   "metadata": {},
   "outputs": [
    {
     "name": "stdout",
     "output_type": "stream",
     "text": [
      "Enter the number: 5\n",
      "The Table of 5 is:\n",
      "5 x 1 = 5\n",
      "5 x 2 = 10\n",
      "5 x 3 = 15\n",
      "5 x 4 = 20\n",
      "5 x 5 = 25\n",
      "5 x 6 = 30\n",
      "5 x 7 = 35\n",
      "5 x 8 = 40\n",
      "5 x 9 = 45\n",
      "5 x 10 = 50\n"
     ]
    }
   ],
   "source": [
    "n = int(input(\"Enter the number: \"))\n",
    "print(f\"The Table of {n} is:\")\n",
    "for i in range(1, 11):\n",
    "    print(f\"{n} x {i} = {n * i}\")\n"
   ]
  },
  {
   "cell_type": "markdown",
   "id": "ce6b7acd",
   "metadata": {},
   "source": [
    "# 7.Write a python program to sum the first 10 prime numbers"
   ]
  },
  {
   "cell_type": "code",
   "execution_count": 14,
   "id": "95c11730",
   "metadata": {},
   "outputs": [
    {
     "name": "stdout",
     "output_type": "stream",
     "text": [
      "The sum of the first 10 prime numbers is: 129\n"
     ]
    }
   ],
   "source": [
    "def prime(n):\n",
    "    if n < 2:\n",
    "        return False\n",
    "    for i in range(2, int(n**0.5) + 1):\n",
    "        if n % i == 0:\n",
    "            return False\n",
    "    return True\n",
    "\n",
    "c= 0\n",
    "sum= 0\n",
    "n= 2\n",
    "\n",
    "while c<10:\n",
    "    if prime(n):\n",
    "        sum+=n\n",
    "        c+=1\n",
    "    n+=1\n",
    "\n",
    "print(f\"The sum of the first 10 prime numbers is: {sum}\")"
   ]
  },
  {
   "cell_type": "markdown",
   "id": "4802314f",
   "metadata": {},
   "source": [
    "# 8.Write a python program to implement arithmetic operations using nested if statement\n"
   ]
  },
  {
   "cell_type": "code",
   "execution_count": 15,
   "id": "cac3f0c1",
   "metadata": {},
   "outputs": [
    {
     "name": "stdout",
     "output_type": "stream",
     "text": [
      "Enter the first number: 2\n",
      "Enter the second number: 3\n",
      "Choose the arithmetic operation (+, -, *, /): +\n",
      "Result: 5.0\n"
     ]
    }
   ],
   "source": [
    "n1 = float(input(\"Enter the first number: \"))\n",
    "n2 = float(input(\"Enter the second number: \"))\n",
    "op= input(\"Choose the arithmetic operation (+, -, *, /): \")\n",
    "\n",
    "if op == \"+\":\n",
    "    r = n1 + n2\n",
    "elif op == \"-\":\n",
    "    r = n1 - n2\n",
    "elif op == \"*\":\n",
    "    r = n1 * n2\n",
    "elif op == \"/\":\n",
    "    if n2 != 0:\n",
    "        r = n1 / n2\n",
    "    else:\n",
    "        r = \"Division by zero is not allowed.\"\n",
    "else:\n",
    "    r= \"Invalid operation\"\n",
    "\n",
    "print(f\"Result: {r}\")"
   ]
  },
  {
   "cell_type": "markdown",
   "id": "a0567527",
   "metadata": {},
   "source": [
    "# 9.Write a python program to take the temperature in celsius and convert it into farenheit"
   ]
  },
  {
   "cell_type": "code",
   "execution_count": 16,
   "id": "05955e29",
   "metadata": {},
   "outputs": [
    {
     "name": "stdout",
     "output_type": "stream",
     "text": [
      "Enter temperature in Celsius: 30\n",
      "30.0 degrees Celsius is equal to 86.0 degrees Fahrenheit\n"
     ]
    }
   ],
   "source": [
    "c = float(input(\"Enter temperature in Celsius: \"))\n",
    "f = (c * 9/5) + 32\n",
    "print(f\"{c} degrees Celsius is equal to {f} degrees Fahrenheit\")"
   ]
  },
  {
   "cell_type": "markdown",
   "id": "87dafa6f",
   "metadata": {},
   "source": [
    "# 10.Write a python program to find a maximum and minimum number in a list without using an inbuilt function"
   ]
  },
  {
   "cell_type": "code",
   "execution_count": 19,
   "id": "7bf4580b",
   "metadata": {},
   "outputs": [
    {
     "name": "stdout",
     "output_type": "stream",
     "text": [
      "Maximum: 90\n",
      "Minimum: 1\n"
     ]
    }
   ],
   "source": [
    "def fun(lst):\n",
    "    max= min= lst[0]\n",
    "    for n in lst:\n",
    "        if n>max:\n",
    "            max = n\n",
    "        if n<min:\n",
    "            min = n\n",
    "    return max, min\n",
    "\n",
    "lst = [10,90,25,1,68,24,62,9,81]\n",
    "max, min= fun(lst)\n",
    "print(f\"Maximum: {max}\")\n",
    "print(f\"Minimum: {min}\")"
   ]
  },
  {
   "cell_type": "markdown",
   "id": "44321e4e",
   "metadata": {},
   "source": [
    "# 11. Write a python program to print out the number of seconds in 30-day month 30 days,24 hours in a day,60 minutes per day,60 seconds in a minute"
   ]
  },
  {
   "cell_type": "code",
   "execution_count": 21,
   "id": "963cbac9",
   "metadata": {},
   "outputs": [
    {
     "name": "stdout",
     "output_type": "stream",
     "text": [
      "There are 2592000 seconds in a 30-day month.\n"
     ]
    }
   ],
   "source": [
    "days = 30\n",
    "hours = 24\n",
    "minutes= 60\n",
    "seconds= 60\n",
    "\n",
    "result= days* hours* minutes* seconds\n",
    "\n",
    "print(f\"There are {result} seconds in a 30-day month.\")"
   ]
  },
  {
   "cell_type": "markdown",
   "id": "819297c8",
   "metadata": {},
   "source": [
    "# 12.Write a python program to print out the number of seconds in a year"
   ]
  },
  {
   "cell_type": "code",
   "execution_count": 22,
   "id": "f4f7e0d0",
   "metadata": {},
   "outputs": [
    {
     "name": "stdout",
     "output_type": "stream",
     "text": [
      "The number of seconds in a year (assuming 365 days) is: 31536000 seconds\n"
     ]
    }
   ],
   "source": [
    "days= 365\n",
    "hours= 24\n",
    "minutes= 60\n",
    "seconds= 60\n",
    "result= days* hours* minutes* seconds\n",
    "print(f\"The number of seconds in a year (assuming 365 days) is: {result} seconds\")\n"
   ]
  },
  {
   "cell_type": "markdown",
   "id": "922f4fec",
   "metadata": {},
   "source": [
    "# 13.A high speed train can travel at an average apeed of 150 mph,how long will it take a train travelling at this speed to travel from london to galsgow which is 414 miles away?"
   ]
  },
  {
   "cell_type": "code",
   "execution_count": 23,
   "id": "14969264",
   "metadata": {},
   "outputs": [
    {
     "name": "stdout",
     "output_type": "stream",
     "text": [
      "It will take approximately 2 hours and 45.60 minutes to travel from London to Glasgow.\n"
     ]
    }
   ],
   "source": [
    "d= 414\n",
    "s= 150\n",
    "t= d/s\n",
    "\n",
    "h = int(t)\n",
    "min= (t - h) * 60\n",
    "print(f\"It will take approximately {h} hours and {min:.2f} minutes to travel from London to Glasgow.\")\n",
    "\n"
   ]
  },
  {
   "cell_type": "markdown",
   "id": "b4bf0758",
   "metadata": {},
   "source": [
    "# 14. Write a python program that defines a variable called days_in_each_school_year ans assign 192 to the variable.The program should then print out the total hours that you spend in school from year 7 to year 11,if each day you spend 6 hours in school_day_in_eacg_school_year=192"
   ]
  },
  {
   "cell_type": "code",
   "execution_count": 27,
   "id": "88006340",
   "metadata": {},
   "outputs": [
    {
     "name": "stdout",
     "output_type": "stream",
     "text": [
      "Total hours spent in school from year 7 to year 11: 5760 hours\n"
     ]
    }
   ],
   "source": [
    "days= 192\n",
    "years= 5\n",
    "total= years*days*6 \n",
    "\n",
    "print(f\"Total hours spent in school from year 7 to year 11: {total} hours\")\n"
   ]
  },
  {
   "cell_type": "markdown",
   "id": "57d88780",
   "metadata": {},
   "source": [
    "# 15. IF the age of Ram,Sam and Khan are input through the keyboard,write a python program to determine the eldest and youngest of the three"
   ]
  },
  {
   "cell_type": "code",
   "execution_count": 28,
   "id": "534a8153",
   "metadata": {},
   "outputs": [
    {
     "name": "stdout",
     "output_type": "stream",
     "text": [
      "Enter Ram's age: 25\n",
      "Enter Sam's age: 23\n",
      "Enter Khan's age: 29\n",
      "The eldest among Ram, Sam, and Khan is: Khan\n",
      "The youngest among Ram, Sam, and Khan is: Sam\n"
     ]
    }
   ],
   "source": [
    "ram= int(input(\"Enter Ram's age: \"))\n",
    "sam= int(input(\"Enter Sam's age: \"))\n",
    "khan= int(input(\"Enter Khan's age: \"))\n",
    "if ram>= sam and ram>= khan:\n",
    "    e= \"Ram\"\n",
    "    if sam<= khan:\n",
    "        y= \"Sam\"\n",
    "    else:\n",
    "        y= \"Khan\"\n",
    "elif sam>= ram and sam >= khan:\n",
    "    e= \"Sam\"\n",
    "    if ram<= khan:\n",
    "        y= \"Ram\"\n",
    "    else:\n",
    "        y= \"Khan\"\n",
    "else:\n",
    "    e= \"Khan\"\n",
    "    if ram<= sam:\n",
    "        y= \"Ram\"\n",
    "    else:\n",
    "        y = \"Sam\"\n",
    "        \n",
    "print(f\"The eldest among Ram, Sam, and Khan is: {e}\")\n",
    "print(f\"The youngest among Ram, Sam, and Khan is: {y}\")\n"
   ]
  },
  {
   "cell_type": "markdown",
   "id": "aff4eb58",
   "metadata": {},
   "source": [
    "# 16. Write a python program to rotate a list by right n times wihth and without slicing technique"
   ]
  },
  {
   "cell_type": "code",
   "execution_count": 30,
   "id": "e3a05041",
   "metadata": {},
   "outputs": [
    {
     "name": "stdout",
     "output_type": "stream",
     "text": [
      "Enter the number of times to rotate to the right: 2\n",
      "Rotated list using slicing technique: [4, 5, 1, 2, 3]\n"
     ]
    }
   ],
   "source": [
    "def funwithslice(lst1, n):\n",
    "    if len(lst1) == 0:\n",
    "        return lst1\n",
    "    \n",
    "    n %= len(lst)  \n",
    "    lst2= lst1[-n:] + lst1[:-n]\n",
    "    return lst2\n",
    "\n",
    "lst = [1, 2, 3, 4, 5]\n",
    "n = int(input(\"Enter the number of times to rotate to the right: \"))\n",
    "\n",
    "lst2= funwithslice(lst, n)\n",
    "print(\"Rotated list using slicing technique:\", lst2)\n",
    "\n"
   ]
  },
  {
   "cell_type": "code",
   "execution_count": 31,
   "id": "fad046fa",
   "metadata": {},
   "outputs": [
    {
     "name": "stdout",
     "output_type": "stream",
     "text": [
      "Enter the number of times to rotate to the right: 3\n",
      "Rotated list without slicing technique: [3, 4, 5, 1, 2]\n"
     ]
    }
   ],
   "source": [
    "def funwithoutslice(lst1, n):\n",
    "    if len(lst1) == 0:\n",
    "        return lst1\n",
    "    \n",
    "    n %= len(lst1) \n",
    "    for _ in range(n):\n",
    "        temp = lst1.pop()\n",
    "        lst1.insert(0, temp)\n",
    "    return lst1\n",
    "\n",
    "lst = [1, 2, 3, 4, 5]\n",
    "n = int(input(\"Enter the number of times to rotate to the right: \"))\n",
    "\n",
    "lst2= funwithoutslice(lst, n)\n",
    "print(\"Rotated list without slicing technique:\", lst2)"
   ]
  },
  {
   "cell_type": "markdown",
   "id": "2eb2e14c",
   "metadata": {},
   "source": [
    "# 17. Python program to print the patterns given below:\n",
    "    1\n",
    "    1  1\n",
    "    1  2  1\n",
    "    1  3  3  1\n",
    "    1  4  6  4  1\n",
    "    1  5  10 10 5  1\n",
    "    1  6  15 20 15 6  1"
   ]
  },
  {
   "cell_type": "code",
   "execution_count": 32,
   "id": "c8dfd02c",
   "metadata": {},
   "outputs": [
    {
     "name": "stdout",
     "output_type": "stream",
     "text": [
      "Enter the number of rows: 7\n",
      "1 \n",
      "1 1 \n",
      "1 2 1 \n",
      "1 3 3 1 \n",
      "1 4 6 4 1 \n",
      "1 5 10 10 5 1 \n",
      "1 6 15 20 15 6 1 \n"
     ]
    }
   ],
   "source": [
    "n = int(input(\"Enter the number of rows: \"))\n",
    "def fun(n, k):\n",
    "    if k == 0 or k == n:\n",
    "        return 1\n",
    "    return fun(n - 1, k - 1) + fun(n - 1, k)\n",
    "n\n",
    "for i in range(n):\n",
    "    for j in range(i + 1):\n",
    "        print(fun(i, j), end=\" \")\n",
    "    print()\n"
   ]
  },
  {
   "cell_type": "markdown",
   "id": "2e29dd74",
   "metadata": {},
   "source": [
    "# Python program to print the pattern2\n"
   ]
  },
  {
   "cell_type": "code",
   "execution_count": 33,
   "id": "a4f5585b",
   "metadata": {},
   "outputs": [
    {
     "name": "stdout",
     "output_type": "stream",
     "text": [
      "* \n",
      "* * \n",
      "* * * \n",
      "* * * * \n",
      "* * * * * \n"
     ]
    }
   ],
   "source": [
    "n = 5  \n",
    "for i in range(n):\n",
    "    for j in range(i + 1):\n",
    "        print(\"*\", end=\" \")\n",
    "    print()  \n"
   ]
  },
  {
   "cell_type": "markdown",
   "id": "64a74d6f",
   "metadata": {},
   "source": [
    "# Python program to print the pattern3"
   ]
  },
  {
   "cell_type": "code",
   "execution_count": 34,
   "id": "5e91a590",
   "metadata": {},
   "outputs": [
    {
     "name": "stdout",
     "output_type": "stream",
     "text": [
      "Enter the number of rows: 7\n",
      "      * \n",
      "     * * \n",
      "    * * * \n",
      "   * * * * \n",
      "  * * * * * \n",
      " * * * * * * \n",
      "* * * * * * * \n"
     ]
    }
   ],
   "source": [
    "n = int(input(\"Enter the number of rows: \"))\n",
    "for i in range(1, n + 1):\n",
    "    print(\" \" * (n - i), end=\"\")  \n",
    "    print(\"* \" * i)  \n"
   ]
  },
  {
   "cell_type": "markdown",
   "id": "40c77ce1",
   "metadata": {},
   "source": [
    "# Python program to print the pattern4"
   ]
  },
  {
   "cell_type": "code",
   "execution_count": 35,
   "id": "c074ab43",
   "metadata": {},
   "outputs": [
    {
     "name": "stdout",
     "output_type": "stream",
     "text": [
      "\n",
      "P\n",
      "Py\n",
      "Pyt\n",
      "Pyth\n",
      "Pytho\n",
      "Python\n"
     ]
    }
   ],
   "source": [
    "w = \"Python\"\n",
    "for i in range(len(w) + 1):\n",
    "    print(w[:i])\n",
    "\n"
   ]
  }
 ],
 "metadata": {
  "kernelspec": {
   "display_name": "Python 3 (ipykernel)",
   "language": "python",
   "name": "python3"
  },
  "language_info": {
   "codemirror_mode": {
    "name": "ipython",
    "version": 3
   },
   "file_extension": ".py",
   "mimetype": "text/x-python",
   "name": "python",
   "nbconvert_exporter": "python",
   "pygments_lexer": "ipython3",
   "version": "3.11.4"
  }
 },
 "nbformat": 4,
 "nbformat_minor": 5
}
