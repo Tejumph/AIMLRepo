{
 "cells": [
  {
   "cell_type": "markdown",
   "id": "aca3eb0d",
   "metadata": {},
   "source": [
    "# 1.Write a Python function to list even and odd numbers in a list\n"
   ]
  },
  {
   "cell_type": "code",
   "execution_count": 14,
   "id": "9e0fdf0f",
   "metadata": {},
   "outputs": [
    {
     "name": "stdout",
     "output_type": "stream",
     "text": [
      "Even numbers in given list are: [2, 4, 6, 8, 10]\n",
      "Odd numbers in given list are: [1, 3, 5, 7, 9]\n"
     ]
    }
   ],
   "source": [
    "lst=[1,2,3,4,5,6,7,8,9,10]\n",
    "odd=[]\n",
    "even=[]\n",
    "def divide():\n",
    "    for i in lst:\n",
    "        if i%2==0:\n",
    "            even.append(i)\n",
    "        else:\n",
    "            odd.append(i)\n",
    "        \n",
    "divide()       \n",
    "print('Even numbers in given list are:',even)\n",
    "print('Odd numbers in given list are:',odd)"
   ]
  },
  {
   "cell_type": "markdown",
   "id": "55bb6789",
   "metadata": {},
   "source": [
    "# 2. Write and run a program that asks the user to enter 8 integers(one at a time), and then prints how many of those integers were even numbers. For example if the user entered 19,6,9,20,13,7,6, and 1,then your program should print out 3 since 3 of those numbers were even."
   ]
  },
  {
   "cell_type": "code",
   "execution_count": 7,
   "id": "8faaadd7",
   "metadata": {},
   "outputs": [
    {
     "name": "stdout",
     "output_type": "stream",
     "text": [
      "enter the number:19\n",
      "enter the number:6\n",
      "enter the number:9\n",
      "enter the number:20\n",
      "enter the number:13\n",
      "enter the number:7\n",
      "enter the number:6\n",
      "enter the number:1\n"
     ]
    },
    {
     "data": {
      "text/plain": [
       "3"
      ]
     },
     "execution_count": 7,
     "metadata": {},
     "output_type": "execute_result"
    }
   ],
   "source": [
    "lst=[]\n",
    "for i in range(8):\n",
    "    lst.append(int(input(\"enter the number:\")))\n",
    "    \n",
    "def even():\n",
    "    count=0\n",
    "    for x in lst:\n",
    "        if x%2==0:\n",
    "            count+=1\n",
    "    return count\n",
    "even()"
   ]
  },
  {
   "cell_type": "markdown",
   "id": "6ccb585f",
   "metadata": {},
   "source": [
    "# 3. Write a Python program where you take any positive integer n,if n is even,divide it by 2 to get n/2. If n is odd,multiply it by 3 and add 1 to obtain 3n+1. Repeat the process until you reach 1."
   ]
  },
  {
   "cell_type": "code",
   "execution_count": 2,
   "id": "121de79a",
   "metadata": {},
   "outputs": [
    {
     "name": "stdout",
     "output_type": "stream",
     "text": [
      "enter the number:20\n"
     ]
    },
    {
     "data": {
      "text/plain": [
       "1.0"
      ]
     },
     "execution_count": 2,
     "metadata": {},
     "output_type": "execute_result"
    }
   ],
   "source": [
    "n=int(input(\"enter the number:\"))\n",
    "\n",
    "def get(n):\n",
    "    while n!=1:\n",
    "        if n%2==0:\n",
    "            n=n/2\n",
    "        else:\n",
    "            n=3*n+1\n",
    "    return n\n",
    "get(n)"
   ]
  },
  {
   "cell_type": "markdown",
   "id": "270879e9",
   "metadata": {},
   "source": [
    "# 4. Write a python program to compute the sum of all the multiples of 3 or 5 below 500"
   ]
  },
  {
   "cell_type": "code",
   "execution_count": 5,
   "id": "eea1f445",
   "metadata": {},
   "outputs": [
    {
     "data": {
      "text/plain": [
       "57918"
      ]
     },
     "execution_count": 5,
     "metadata": {},
     "output_type": "execute_result"
    }
   ],
   "source": [
    "def sumfun():\n",
    "    sum=0\n",
    "    for i in range(1,500):\n",
    "        if i%3==0 or i%5==0:\n",
    "            sum+=i\n",
    "    return sum\n",
    "\n",
    "sumfun()\n",
    "        \n",
    "\n",
    "\n",
    "\n",
    "\n",
    "\n"
   ]
  },
  {
   "cell_type": "markdown",
   "id": "7ff7856d",
   "metadata": {},
   "source": [
    "# 5.To write a python program to find first 'n' prime numbers from a list of given numbers. "
   ]
  },
  {
   "cell_type": "code",
   "execution_count": 7,
   "id": "0debe729",
   "metadata": {},
   "outputs": [
    {
     "name": "stdout",
     "output_type": "stream",
     "text": [
      "The first 6 prime numbers from the given list are: [2, 3, 5, 7, 11, 13]\n"
     ]
    }
   ],
   "source": [
    "def prime(num):\n",
    "    if num < 2:\n",
    "        return False\n",
    "    for i in range(2, int(num**0.5) + 1):\n",
    "        if num % i == 0:\n",
    "            return False\n",
    "    return True\n",
    "\n",
    "def fun(n, lst):\n",
    "    primelst = []\n",
    "    for num in lst:\n",
    "        if prime(num):\n",
    "            primelst.append(num)\n",
    "            if len(primelst) == n:\n",
    "                break\n",
    "    return primelst\n",
    "\n",
    "n = 6\n",
    "lst = [1,2,3,4,5,6,7,8,9,10,11,12,13,14,15]\n",
    "\n",
    "primelst = fun(n,lst)\n",
    "print(f\"The first {n} prime numbers from the given list are: {primelst}\")"
   ]
  },
  {
   "cell_type": "markdown",
   "id": "c224e02b",
   "metadata": {},
   "source": [
    "# 6.To write a python program to compute matrix multiplication"
   ]
  },
  {
   "cell_type": "code",
   "execution_count": 1,
   "id": "79e44167",
   "metadata": {},
   "outputs": [
    {
     "name": "stdout",
     "output_type": "stream",
     "text": [
      "[[114 160  60  27]\n",
      " [ 74  97  73  14]\n",
      " [119 157 112  23]]\n"
     ]
    }
   ],
   "source": [
    "import numpy as np\n",
    "\n",
    "A = [[12, 7, 3],[4, 5, 6],[7, 8, 9]]\n",
    "B = [[5, 8, 1, 2],[6, 7, 3, 0],[4, 5, 9, 1]]\n",
    " \n",
    "result = np.dot(A,B)\n",
    "print(result)\n",
    "\n",
    "\n",
    " \n"
   ]
  },
  {
   "cell_type": "markdown",
   "id": "d21a40cf",
   "metadata": {},
   "source": [
    "# 7.Write a python function to count the number of vowels in a string"
   ]
  },
  {
   "cell_type": "code",
   "execution_count": 38,
   "id": "358367a0",
   "metadata": {},
   "outputs": [
    {
     "name": "stdout",
     "output_type": "stream",
     "text": [
      "aeroplane\n"
     ]
    },
    {
     "data": {
      "text/plain": [
       "5"
      ]
     },
     "execution_count": 38,
     "metadata": {},
     "output_type": "execute_result"
    }
   ],
   "source": [
    "\n",
    "def vow(s):\n",
    "    count=0\n",
    "    vow=['a','e','i','o','u']\n",
    "    for i in s:\n",
    "        if i in vow:\n",
    "            count+=1\n",
    "    return count\n",
    "\n",
    "s=input()\n",
    "vow(s)\n",
    "    \n",
    "        "
   ]
  },
  {
   "cell_type": "markdown",
   "id": "e3bc594b",
   "metadata": {},
   "source": [
    "# 8.Write a python function for finding factorial of the given number using a recursive function"
   ]
  },
  {
   "cell_type": "code",
   "execution_count": 10,
   "id": "6bd365f8",
   "metadata": {},
   "outputs": [
    {
     "name": "stdout",
     "output_type": "stream",
     "text": [
      "enter the number:3\n"
     ]
    },
    {
     "data": {
      "text/plain": [
       "6"
      ]
     },
     "execution_count": 10,
     "metadata": {},
     "output_type": "execute_result"
    }
   ],
   "source": [
    "def fact(n):\n",
    "    if n==0 or n==1:\n",
    "        return 1\n",
    "    else:\n",
    "        return n*fact(n-1)\n",
    "\n",
    "n=int(input(\"enter the number:\"))\n",
    "fact(n)"
   ]
  },
  {
   "cell_type": "markdown",
   "id": "770e5247",
   "metadata": {},
   "source": [
    "# 9.Write a Python function for generating the fibonacci series using the function"
   ]
  },
  {
   "cell_type": "code",
   "execution_count": 13,
   "id": "9d3eb211",
   "metadata": {},
   "outputs": [
    {
     "name": "stdout",
     "output_type": "stream",
     "text": [
      "enter the number:6\n"
     ]
    },
    {
     "data": {
      "text/plain": [
       "8"
      ]
     },
     "execution_count": 13,
     "metadata": {},
     "output_type": "execute_result"
    }
   ],
   "source": [
    "def fib(n):\n",
    "    a, b = 0, 1\n",
    "    for i in range(n):\n",
    "        a, b = b, a + b\n",
    "    return a\n",
    "\n",
    "        \n",
    "n=int(input(\"enter the number:\"))\n",
    "fib(n) \n",
    "        "
   ]
  },
  {
   "cell_type": "markdown",
   "id": "e0d07f7f",
   "metadata": {},
   "source": [
    "# 10.Python program to display the given integer in reverse order using the function without an in-built function"
   ]
  },
  {
   "cell_type": "code",
   "execution_count": 22,
   "id": "74ee321c",
   "metadata": {},
   "outputs": [
    {
     "name": "stdout",
     "output_type": "stream",
     "text": [
      "enter the number:268\n"
     ]
    },
    {
     "data": {
      "text/plain": [
       "862"
      ]
     },
     "execution_count": 22,
     "metadata": {},
     "output_type": "execute_result"
    }
   ],
   "source": [
    "def rev(n):\n",
    "    rev_num=0\n",
    "    while n > 0:\n",
    "        rev_num = rev_num * 10 + n % 10\n",
    "        n //= 10\n",
    "    return rev_num\n",
    "n=int(input(\"enter the number:\"))\n",
    "rev(n)\n",
    "        "
   ]
  },
  {
   "cell_type": "markdown",
   "id": "21c6ab46",
   "metadata": {},
   "source": [
    "## 11.Write a python function to display all integers within the range 200-300 whose sum of digits is an even number"
   ]
  },
  {
   "cell_type": "code",
   "execution_count": 26,
   "id": "8758a2cf",
   "metadata": {},
   "outputs": [
    {
     "name": "stdout",
     "output_type": "stream",
     "text": [
      "200\n",
      "202\n",
      "204\n",
      "206\n",
      "208\n",
      "211\n",
      "213\n",
      "215\n",
      "217\n",
      "219\n",
      "220\n",
      "222\n",
      "224\n",
      "226\n",
      "228\n",
      "231\n",
      "233\n",
      "235\n",
      "237\n",
      "239\n",
      "240\n",
      "242\n",
      "244\n",
      "246\n",
      "248\n",
      "251\n",
      "253\n",
      "255\n",
      "257\n",
      "259\n",
      "260\n",
      "262\n",
      "264\n",
      "266\n",
      "268\n",
      "271\n",
      "273\n",
      "275\n",
      "277\n",
      "279\n",
      "280\n",
      "282\n",
      "284\n",
      "286\n",
      "288\n",
      "291\n",
      "293\n",
      "295\n",
      "297\n",
      "299\n"
     ]
    }
   ],
   "source": [
    "def evensum():\n",
    "    for n in range(200,300):\n",
    "        sum=0\n",
    "        for i in str(n):\n",
    "               sum+=int(i)\n",
    "        if sum%2==0:\n",
    "            print(n)\n",
    "            \n",
    "evensum()"
   ]
  },
  {
   "cell_type": "markdown",
   "id": "17f4b84c",
   "metadata": {},
   "source": [
    "# 12.Write a python function to find the number of digits and sum of digits for a given integer"
   ]
  },
  {
   "cell_type": "code",
   "execution_count": 33,
   "id": "5dfbc0cb",
   "metadata": {},
   "outputs": [
    {
     "name": "stdout",
     "output_type": "stream",
     "text": [
      "enter the number:294\n",
      "the number of digits are: 3\n",
      "the sum of digits is: 15\n"
     ]
    }
   ],
   "source": [
    "def dig(n):\n",
    "    num = 0\n",
    "    sum = 0\n",
    "    while n > 0:\n",
    "        num += 1\n",
    "        sum+= n % 10\n",
    "        n //= 10\n",
    "    return num, sum\n",
    "\n",
    "\n",
    "n=int(input(\"enter the number:\"))\n",
    "num,sum=dig(n)\n",
    "print('the number of digits are:',num)\n",
    "print('the sum of digits is:',sum)\n",
    "\n",
    "\n",
    "        "
   ]
  },
  {
   "cell_type": "markdown",
   "id": "93e509eb",
   "metadata": {},
   "source": [
    "###### "
   ]
  },
  {
   "cell_type": "markdown",
   "id": "42b3912f",
   "metadata": {},
   "source": [
    "# 13.Write functions called is_sorted that takes a list as a parameter and returns True if the list is sorted in ascending order and False otherwise and has_duplicates that takes a list and returns True if there is any element that appears more than once. It should not modify the original list"
   ]
  },
  {
   "cell_type": "code",
   "execution_count": 5,
   "id": "78d8dd28",
   "metadata": {},
   "outputs": [
    {
     "name": "stdout",
     "output_type": "stream",
     "text": [
      "Is the given list sorted? True\n",
      "Are there any duplicate values? True\n"
     ]
    }
   ],
   "source": [
    "def is_sort(lst):\n",
    "    return lst==sorted(lst)\n",
    "def dup(lst):\n",
    "    return len(lst)!=len(set(lst))\n",
    "lst=[1,2,3,4,5,5,6,7,8]\n",
    "print(\"Is the given list sorted?\",is_sort(lst))\n",
    "print(\"Are there any duplicate values?\",dup(lst))"
   ]
  },
  {
   "cell_type": "markdown",
   "id": "fd6fe31a",
   "metadata": {},
   "source": [
    "# 14. Write functions called nested_sum that takes a list of integers and adds up the elements from all the nested lists and cumsum that takes a list of numbers and returns the cumulative sum,that is,a new list where the i(th) element is the sum of the first i+1 elements from the original list."
   ]
  },
  {
   "cell_type": "code",
   "execution_count": 13,
   "id": "ffe1da0f",
   "metadata": {},
   "outputs": [
    {
     "name": "stdout",
     "output_type": "stream",
     "text": [
      "45\n",
      "[1, 3, 6, 10, 15]\n"
     ]
    }
   ],
   "source": [
    "def nested_sum(lst):\n",
    "    total = 0\n",
    "    for element in lst:\n",
    "        if isinstance(element, list):\n",
    "            total += nested_sum(element)\n",
    "        else:\n",
    "            total += element\n",
    "    return total\n",
    "\n",
    "def cumsum(lst):\n",
    "    cumulative_sum = 0\n",
    "    result = []\n",
    "    for num in lst:\n",
    "        cumulative_sum += num\n",
    "        result.append(cumulative_sum)\n",
    "    return result\n",
    "\n",
    "nested_list = [1, 2, [3, 4, [5, 6]], 7, [8, 9]]\n",
    "result_nested_sum = nested_sum(nested_list)\n",
    "print(result_nested_sum) \n",
    "\n",
    "\n",
    "original_list = [1, 2, 3, 4, 5]\n",
    "result_cumsum = cumsum(original_list)\n",
    "print(result_cumsum)"
   ]
  }
 ],
 "metadata": {
  "kernelspec": {
   "display_name": "Python 3 (ipykernel)",
   "language": "python",
   "name": "python3"
  },
  "language_info": {
   "codemirror_mode": {
    "name": "ipython",
    "version": 3
   },
   "file_extension": ".py",
   "mimetype": "text/x-python",
   "name": "python",
   "nbconvert_exporter": "python",
   "pygments_lexer": "ipython3",
   "version": "3.11.4"
  }
 },
 "nbformat": 4,
 "nbformat_minor": 5
}
