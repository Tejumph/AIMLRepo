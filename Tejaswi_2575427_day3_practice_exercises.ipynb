{
 "cells": [
  {
   "cell_type": "markdown",
   "id": "c0ca3c86",
   "metadata": {},
   "source": [
    "# 1. Write a python function that copies a file reading and writing up to 50 characters at a time"
   ]
  },
  {
   "cell_type": "code",
   "execution_count": 5,
   "id": "8cec13d3",
   "metadata": {},
   "outputs": [
    {
     "name": "stdout",
     "output_type": "stream",
     "text": [
      "This is sample file of day3\n",
      "content is written\n"
     ]
    }
   ],
   "source": [
    "with open('samplejup.txt','r' ) as f:\n",
    "    content=f.read(50)\n",
    "    print(content)\n",
    "with open('sample.txt', \"w\") as w:\n",
    "    w.write(content)\n",
    "    print(\"content is written\")"
   ]
  },
  {
   "cell_type": "markdown",
   "id": "2272abbd",
   "metadata": {},
   "source": [
    "# 2.Print all numbers present in the text file and print the number of blank spaces in that file"
   ]
  },
  {
   "cell_type": "code",
   "execution_count": 6,
   "id": "10d548b7",
   "metadata": {},
   "outputs": [
    {
     "name": "stdout",
     "output_type": "stream",
     "text": [
      "3 \n",
      " no of blank spaces in that file is: 5\n"
     ]
    }
   ],
   "source": [
    "file=open('samplejup.txt','r')\n",
    "c=0\n",
    "nc=0\n",
    "while True:\n",
    "    content=file.read(1)\n",
    "    if (content.isdigit()):\n",
    "        print(content,end=' ')\n",
    "    if content== ' ':\n",
    "        c+=1\n",
    "    if not content:\n",
    "        break\n",
    "print(\"\\n no of blank spaces in that file is:\",c)\n"
   ]
  },
  {
   "cell_type": "markdown",
   "id": "645e9964",
   "metadata": {},
   "source": [
    "# 3. Write a function called sed that takes arguments a pettern string, a replacement string, and two filenames, it should read the first file and write the contents into the second file(creating it if necessary). If the pattern string appears anywhere in the file,it should be replaced with the replacement string. If an error occurs while opening,reading,writing,or closing files,your program should catch the exception,print an error message and exit."
   ]
  },
  {
   "cell_type": "code",
   "execution_count": 25,
   "id": "d218e028",
   "metadata": {},
   "outputs": [
    {
     "name": "stdout",
     "output_type": "stream",
     "text": [
      "Enter the pattern string: file\n",
      "Enter the replacement string:FILE\n",
      "This is demo 1 FILE of day3 in python learning. \n"
     ]
    }
   ],
   "source": [
    "import sys\n",
    "def sed(patstr,repstr,demo1,demo2):\n",
    "        try:\n",
    "            with open(demo1,'r') as f1:\n",
    "                content=f1.read()\n",
    "                content=content.replace(patstr,repstr)\n",
    "            with open(demo2,'w') as f2:\n",
    "                f2.write(content)\n",
    "        except:\n",
    "                print('error:file not found')\n",
    "                \n",
    "        else:\n",
    "                with open(demo2,'r') as f2:\n",
    "                     print(f2.read())\n",
    "        \n",
    "\n",
    "patstr=input(\"Enter the pattern string: \")\n",
    "repstr=input(\"Enter the replacement string:\")\n",
    "sed(patstr,repstr,'demo1','demo2')"
   ]
  },
  {
   "cell_type": "markdown",
   "id": "717b448d",
   "metadata": {},
   "source": [
    "# 4. Log File Analaysis:\n",
    "    You have a log file containing records of user activities on a website. Each line in the file represents a log entry with details like timestamp,user ID and action performed. Your task is to analyze this log file.\n",
    "    a.)Write python code to read the log file and extract sepcific information,such as the number of unique users or the moat common action.\n",
    "    b.)How would you handle large log files efficiently without loading the entire file into memory?"
   ]
  },
  {
   "cell_type": "code",
   "execution_count": 3,
   "id": "6a7743c3",
   "metadata": {},
   "outputs": [
    {
     "name": "stdout",
     "output_type": "stream",
     "text": [
      "An error occurred: too many values to unpack (expected 3)\n",
      "\n"
     ]
    }
   ],
   "source": [
    "from collections import Counter\n",
    "def solve(log_file):\n",
    "    try:\n",
    "        unique_users = set()\n",
    "        actn_counter = Counter()\n",
    "        mst_cmn_actn = None\n",
    "        mst_cmn_actn_count = 0\n",
    "        with open(log_file, 'r') as file:\n",
    "            for line in file:\n",
    "                timestamp, user_id, action = line.strip().split(' ')\n",
    "                unique_users.add(user_id)\n",
    "                actn_counter[action] += 1     \n",
    "                if actn_counter[action] > mst_cmn_actn_count:\n",
    "                    mst_cmn_actn = action\n",
    "                    mst_cmn_actn_count = actn_counter[action]\n",
    "        print(f\"Number of unique users: {len(unique_users)}\")\n",
    "        print(f\"Most common action: {mst_cmn_actn} (count: {mst_cmn_actn_count})\")\n",
    "    except FileNotFoundError:\n",
    "        print(f\"Error: Log file '{log_file}' not found.\\n\")\n",
    "    except Exception as e:\n",
    "        print(f\"An error occurred: {e}\\n\")\n",
    "log_file = \"C:/Users/admin/AIML_python(Practice exercises)/logfile.txt\"\n",
    "solve(log_file)"
   ]
  },
  {
   "cell_type": "markdown",
   "id": "a6b8e939",
   "metadata": {},
   "source": [
    "# 5. Text File search and Replace:\n",
    "    You have a text file with a large amount of text, and you want to search for specific words or phrases and replace them with new content\n",
    "    a.) Write Python code to search for and replace them with new content\n",
    "    b.) How would you handle cases where you need to perform multiple replacements in a single pass?"
   ]
  },
  {
   "cell_type": "code",
   "execution_count": 27,
   "id": "958afaff",
   "metadata": {},
   "outputs": [
    {
     "name": "stdout",
     "output_type": "stream",
     "text": [
      "Enter the word to be searched for: python\n",
      "Enter The word to replace: JUPYTER_NOTEBOOK\n"
     ]
    }
   ],
   "source": [
    "def des(srch,rep,demo1,demo2):\n",
    "    with open(demo1, 'r') as f1:\n",
    "        content = f1.read()\n",
    "        for srch,rep in zip(srch,rep):\n",
    "            content = content.replace(srch,rep)\n",
    "            \n",
    "            with open(demo2, 'w') as f2:\n",
    "                f2.write(content)\n",
    "            \n",
    "\n",
    "srch = input(\"Enter the word to be searched for: \").split()\n",
    "rep = input(\"Enter The word to replace: \").split()\n",
    "\n",
    "\n",
    "\n",
    "des(srch,rep,'demo1','demo2')"
   ]
  },
  {
   "cell_type": "markdown",
   "id": "c049cfd8",
   "metadata": {},
   "source": [
    "# 6. Write a python script that concatenetes the contents of multiple text files into a single output file. Allow the user to specify the input files and the output file."
   ]
  },
  {
   "cell_type": "code",
   "execution_count": 4,
   "id": "1823a69d",
   "metadata": {},
   "outputs": [],
   "source": [
    "file1=open('demo1','r')\n",
    "file2=open('demo2','r')\n",
    "\n",
    "content1=file1.read()\n",
    "file1.close()\n",
    "content2=file2.read()\n",
    "file2.close()\n",
    "\n",
    "file=open('demo.txt','w')\n",
    "file.write(content1+content2)\n",
    "file.close()"
   ]
  },
  {
   "cell_type": "markdown",
   "id": "148fcca7",
   "metadata": {},
   "source": [
    "# 7.You are given a text file named input.txt containing a list of words, one word per line. Your task is to create a python program that reads the contents of input.txt,processes the words, and writes the result to an output file named output.txt\n",
    "a.) The program should perform the following operations:\n",
    "    1.)Read the words from input.txt\n",
    "    2.)For each word in the input file,calculate the length of the word and store it in a dictionary where the word is the key, and the length is the value\n",
    "    3.)Write the word-length dictionary to output.txt in the following format:\n",
    "        Word1: Length1\n",
    "        Word2: Length2\n",
    "            .....\n",
    "    4.) Close both input and output files properly\n",
    "    5.) Write Python code to accomplish this task. Ensure proper error handling for file operations.\n",
    "      "
   ]
  },
  {
   "cell_type": "code",
   "execution_count": 2,
   "id": "2fb56b87",
   "metadata": {},
   "outputs": [
    {
     "name": "stdout",
     "output_type": "stream",
     "text": [
      "The contents are added to the output file \n"
     ]
    }
   ],
   "source": [
    "try:\n",
    "    with open('input.txt','r') as f1:\n",
    "        dict={}\n",
    "        for line in f1:\n",
    "            w=line.strip()\n",
    "            wlen=len(w)\n",
    "            dict[w]=wlen\n",
    "    with open('output.txt','w') as f2:\n",
    "        for w,wlen in dict.items():\n",
    "            f2.write(f\"{w}:{wlen}\\n\")\n",
    "    print(\"The contents are added to the output file \")\n",
    "    \n",
    "\n",
    "except FileNotFound:\n",
    "    print(\"input.txt file is not found\")\n",
    "except Exception as e:\n",
    "    print(f\"An error occured: {str(e)}\")\n",
    "\n",
    "            "
   ]
  },
  {
   "cell_type": "markdown",
   "id": "bbf42e51",
   "metadata": {},
   "source": [
    "# 8. Assume that you are developing a student gradebook system for a school. The system should allow teachers to input student grades for various subjects,store the data in files, and provide students with the ability to view their grades.\n",
    "Design a python program that accomplishes the following tasks:\n",
    "    1.) Teachers should be able to input grades for students in different subjects.\n",
    "    2.) Store the student grade data in seperate text files for each subject.\n",
    "    3.) Students should be able to view their grades for each subject\n",
    "    4.) Implement error handling for file operations, such as file not founf or permission issues."
   ]
  },
  {
   "cell_type": "code",
   "execution_count": 5,
   "id": "5d1eb4f8",
   "metadata": {},
   "outputs": [
    {
     "name": "stdout",
     "output_type": "stream",
     "text": [
      "Gradebook Menu:\n",
      "1. Input Grades\n",
      "2. View Grades\n",
      "3. Exit\n",
      "Enter your choice (1/2/3): 1\n",
      "Enter Student ID: 501\n",
      "Enter Subject: phy\n",
      "Enter Grade: A\n",
      "Gradebook Menu:\n",
      "1. Input Grades\n",
      "2. View Grades\n",
      "3. Exit\n",
      "Enter your choice (1/2/3): 1\n",
      "Enter Student ID: 502\n",
      "Enter Subject: che\n",
      "Enter Grade: B\n",
      "Gradebook Menu:\n",
      "1. Input Grades\n",
      "2. View Grades\n",
      "3. Exit\n",
      "Enter your choice (1/2/3): 1\n",
      "Enter Student ID: 503\n",
      "Enter Subject: mat\n",
      "Enter Grade: C\n",
      "Gradebook Menu:\n",
      "1. Input Grades\n",
      "2. View Grades\n",
      "3. Exit\n",
      "Enter your choice (1/2/3): 1\n",
      "Enter Student ID: 504\n",
      "Enter Subject: soc\n",
      "Enter Grade: A\n",
      "Gradebook Menu:\n",
      "1. Input Grades\n",
      "2. View Grades\n",
      "3. Exit\n",
      "Enter your choice (1/2/3): 2\n",
      "Enter Student ID: 503\n",
      "Enter Subject: mat\n",
      "Grades for 503 in mat:\n",
      "503: A\n",
      "503: C\n",
      "Gradebook Menu:\n",
      "1. Input Grades\n",
      "2. View Grades\n",
      "3. Exit\n",
      "Enter your choice (1/2/3): 3\n",
      "Exiting.\n"
     ]
    }
   ],
   "source": [
    "import os\n",
    "def input_grades(student_id, subject, grade):\n",
    "    filename = f\"{subject}_grades.txt\"\n",
    "    try:\n",
    "        with open(filename, 'a') as file:\n",
    "            file.write(f\"{student_id}: {grade}\\n\")  \n",
    "    except FileNotFoundError:\n",
    "        print(\"no such file or directory\")\n",
    "    except PermissionError:\n",
    "        print(f\"Error: Permission denied to write to '{filename}'.\")\n",
    "    except Exception as e:\n",
    "        print(f\"An error occurred: {str(e)}\")\n",
    "def view_grades(student_id, subject):\n",
    "    filename = f\"{subject}_grades.txt\"\n",
    "    try:\n",
    "        with open(filename, 'r') as file:\n",
    "            lines = file.readlines()\n",
    "            student_grades = [line.strip() for line in lines if line.startswith(f\"{student_id}: \")]\n",
    "            if student_grades:\n",
    "                print(f\"Grades for {student_id} in {subject}:\")\n",
    "                for grade in student_grades:\n",
    "                    print(grade)\n",
    "            else:\n",
    "                print(f\"No grades found for {student_id} in {subject}.\")\n",
    "    except FileNotFoundError:\n",
    "        print(f\"Error: File '{filename}' not found.\")\n",
    "    except PermissionError:\n",
    "        print(f\"Error: Permission denied to read '{filename}'.\")\n",
    "    except Exception as e:\n",
    "        print(f\"An error occurred: {str(e)}\")\n",
    "while True:\n",
    "    print(\"Gradebook Menu:\")\n",
    "    print(\"1. Input Grades\")\n",
    "    print(\"2. View Grades\")\n",
    "    print(\"3. Exit\")\n",
    "    choice = input(\"Enter your choice (1/2/3): \")\n",
    "    \n",
    "    if choice == \"1\":\n",
    "        student_id = input(\"Enter Student ID: \")\n",
    "        subject = input(\"Enter Subject: \")\n",
    "        grade = input(\"Enter Grade: \")\n",
    "        input_grades(student_id, subject, grade)\n",
    "    elif choice == \"2\":\n",
    "        student_id = input(\"Enter Student ID: \")\n",
    "        subject = input(\"Enter Subject: \")\n",
    "        view_grades(student_id, subject)\n",
    "    elif choice == \"3\":\n",
    "        print(\"Exiting.\")\n",
    "        break"
   ]
  }
 ],
 "metadata": {
  "kernelspec": {
   "display_name": "Python 3 (ipykernel)",
   "language": "python",
   "name": "python3"
  },
  "language_info": {
   "codemirror_mode": {
    "name": "ipython",
    "version": 3
   },
   "file_extension": ".py",
   "mimetype": "text/x-python",
   "name": "python",
   "nbconvert_exporter": "python",
   "pygments_lexer": "ipython3",
   "version": "3.11.4"
  }
 },
 "nbformat": 4,
 "nbformat_minor": 5
}
