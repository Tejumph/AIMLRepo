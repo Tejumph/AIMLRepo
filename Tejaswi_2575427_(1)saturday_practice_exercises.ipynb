{
 "cells": [
  {
   "cell_type": "markdown",
   "id": "26b25685",
   "metadata": {},
   "source": [
    "# 1. Case Study: Online Shopping Cart Exception Handling\n",
    "    \n",
    "You are working as a python developer for an e-commerce company,and your team is responsible for building and maintaining the shopping cart module of the website. Customers can add items to their cart, view the cart contents, and proceed to checkout. \n",
    "Recently, there have been reports of unexpected crashes and errors when customers interact withtheir shopping carts. Your task is to investigate these issues and improve the exception handling in theshopping cart code to make it more robust.\n",
    "\n",
    "                               Requirements and Scenarios:\n",
    "\n",
    "Scenario 1-Adding Items to Cart: \n",
    "    \n",
    "\n",
    "When a customer adds an item to their cart, they provide the product ID and quantity. Handle exceptions that may occur during this process, such as:\n",
    "\n",
    "i. Product ID not found in the product catalog.\n",
    "ii. Invalid quantity (eg, negative quantity or non-integer input).\n",
    "\n",
    "Scenario 2-Viewing Cart Contents:\n",
    "\n",
    "When a customer views their cart, display the list of items and their quantities. Handle exceptions that may occur during this process, such as:\n",
    "\n",
    "i. Empty cart (no items added).\n",
    "ii. Unexpected errors (e.g., network issues when fetching cart data).\n",
    "\n",
    "\n",
    "Scenario 3-Proceeding to Checkout:\n",
    "\n",
    "When a customer proceeds to checkout, validate the cart and process the payment. Handle exceptions\n",
    "\n",
    "that may occur during this process, such as:\n",
    "\n",
    "i. Insufficient stock for some items in the cart.\n",
    "\n",
    "ii. Payment gateway errors.\n",
    "\n",
    "iii. Customer payment method declined.\n",
    "\n",
    "\n",
    "\n",
    "Your Tasks:\n",
    "\n",
    "1. Review the existing shopping cart code to identify potential areas where exceptions may occur.\n",
    "\n",
    "2. Enhance the exception handling in the code by adding appropriate try, except, and finally\n",
    "\n",
    "blocks to handle exceptions gracefully. Provide helpful error messages to the user where\n",
    "\n",
    "applicable. \n",
    "3. Ensure that the program continues to run smoothly even wheri exceptions occur, and customers receive informative feedback. 4. Test the shopping cart thoroughly with different scenarios to ensure that it handles exceptions\n",
    "\n",
    "correctly.\n"
   ]
  },
  {
   "cell_type": "markdown",
   "id": "477ecba0",
   "metadata": {},
   "source": [
    "# 2. Create a Python function that checks if two given strings are anagrams of each other."
   ]
  },
  {
   "cell_type": "code",
   "execution_count": 2,
   "id": "68fff4d6",
   "metadata": {},
   "outputs": [
    {
     "name": "stdout",
     "output_type": "stream",
     "text": [
      "String 1 :  tejaswi\n",
      "String 2 :  swijeta\n",
      "Both strings are anagrams for each other.\n"
     ]
    }
   ],
   "source": [
    "def anagram_check(s1, s2):  \n",
    "    if(sorted(s1)== sorted(s2)):  \n",
    "        print(\"Both strings are anagrams for each other.\")  \n",
    "    else:  \n",
    "        print(\"Both strings are not anagrams.\")  \n",
    "         \n",
    "s1 =\"tejaswi\"  \n",
    "s2 =\"swijeta\"  \n",
    "print( \"String 1 : \", s1 )  \n",
    "print( \"String 2 : \", s2 )  \n",
    "anagram_check(s1, s2)"
   ]
  },
  {
   "cell_type": "markdown",
   "id": "62a3e1db",
   "metadata": {},
   "source": [
    "# 3. Create a Python function that checks if two given strings are anagrams of each other."
   ]
  },
  {
   "cell_type": "code",
   "execution_count": 15,
   "id": "35818c89",
   "metadata": {},
   "outputs": [
    {
     "name": "stdout",
     "output_type": "stream",
     "text": [
      "String 1 :  tejaswi\n",
      "String 2 :  swijeta\n",
      "Both strings are anagrams for each other.\n"
     ]
    }
   ],
   "source": [
    "def anagram_check(s1, s2):  \n",
    "    if(sorted(s1)== sorted(s2)):  \n",
    "        print(\"Both strings are anagrams for each other.\")  \n",
    "    else:  \n",
    "        print(\"Both strings are not anagrams.\")  \n",
    "         \n",
    "s1 =\"tejaswi\"  \n",
    "s2 =\"swijeta\"  \n",
    "print( \"String 1 : \", s1 )  \n",
    "print( \"String 2 : \", s2 )  \n",
    "anagram_check(s1, s2)"
   ]
  },
  {
   "cell_type": "markdown",
   "id": "647628ab",
   "metadata": {},
   "source": [
    "# 4. Case Study: Online Bookstore Database Connectivity\n",
    "\n",
    "You are a Python developer working on the backend of an online bookstore website. The website's database stores information about books, customers, orders, and inventory. Your task is to develop and maintain the database connectivity and interaction components.\n",
    "\n",
    "                               Requirements and Scenarios:\n",
    "\n",
    "Scenario 1-Customer Registration:\n",
    "\n",
    "When a new customer registers on the website, their information (name, email, password) should be\n",
    "\n",
    "stored in the database.\n",
    "\n",
    "Handle exceptions that may occur during the registration process, such as:\n",
    "\n",
    "1. Duplicate email addresses.\n",
    "\n",
    "2. Database connection errors.\n",
    "\n",
    "\n",
    "\n",
    "Scenario 2-Book Inventory Management:\n",
    "\n",
    "Implement functionality to add new books to the inventory, update existing book details, and delete books.\n",
    "\n",
    "Handle exceptions that may occur during these operations, such as:\n",
    "\n",
    "1. Invalid book data.\n",
    "2. Database errors when updating or deleting books\n",
    "\n",
    "\n",
    "\n",
    "Scenario 3-Customer Orders:\n",
    "\n",
    "Allow customers to place orders for books. Each order includes customer details and a list of ordered books.\n",
    "\n",
    "Handle exceptions that may occur during order placenient, such as:\n",
    "\n",
    "1. Insufficient stock for sojue books.\n",
    "\n",
    "2. Database errors when recording orders\n",
    "\n",
    "\n",
    "\n",
    "\n",
    "Scenario 4-Order History\n",
    "\n",
    "Customers should be able to view their order history, which includes details of past orders. Handle exceptions that may occur when retrieving order history, such as\n",
    "\n",
    "1. No orders found for the customer.\n",
    "2. Database connection issues\n",
    "\n",
    "\n",
    "Your Tasks:\n",
    "\n",
    "1. Review the existing database interaction code to identify potential areas where exceptions may occur \n",
    "2. Enhance the exception handling in the code by adding appropriate try, except, and finally blocks to handle exceptions gracefully. Provide helpful error messages to the user where applicable \n",
    "3. Ensure that the program continues to run smoothly even when exceptions occur, and customers receive informative feedback.\n",
    "4. Implement database queries and transactions following best practices to maintain data integrity. \n",
    "5. Test the website's database interactions thoroughly with different scenarios to ensure that it handles exceptions correctly.\n"
   ]
  },
  {
   "cell_type": "markdown",
   "id": "2df94722",
   "metadata": {},
   "source": [
    "# 5. Read a text file containing a list of names or numbers, sort the data, and write the sorted data back to a new file."
   ]
  },
  {
   "cell_type": "code",
   "execution_count": 14,
   "id": "8be2d8fa",
   "metadata": {},
   "outputs": [
    {
     "name": "stdout",
     "output_type": "stream",
     "text": [
      "File sorted successfully!\n"
     ]
    }
   ],
   "source": [
    "def sort(input_filename, output_filename):\n",
    "    try:\n",
    "        with open(input_filename, 'r') as input_file:\n",
    "            data = input_file.readlines()\n",
    "\n",
    "        data.sort()\n",
    "\n",
    "        with open(output_filename, 'w') as output_file:\n",
    "            output_file.writelines(data)\n",
    "\n",
    "        print(\"File sorted successfully!\")\n",
    "\n",
    "    except Exception as e:\n",
    "        print(f\"Error: {e}\")\n",
    "\n",
    "input_filename = \"input.txt\"  \n",
    "output_filename = \"output.txt\"  \n",
    "sort(input_filename, output_filename)"
   ]
  },
  {
   "cell_type": "markdown",
   "id": "62bb71de",
   "metadata": {},
   "source": [
    "# 6. Write a Python script that compares two text files and identifies the differences between them, including added, modified, and deleted lines"
   ]
  },
  {
   "cell_type": "code",
   "execution_count": 3,
   "id": "3fa150db",
   "metadata": {},
   "outputs": [
    {
     "name": "stdout",
     "output_type": "stream",
     "text": [
      "File sorted successfully!\n"
     ]
    }
   ],
   "source": [
    "def sort(infile, outfile):\n",
    "    try:\n",
    "        with open(infile, 'r') as input_file:\n",
    "            data = input_file.readlines()\n",
    "\n",
    "        data.sort()\n",
    "\n",
    "        with open(outfile, 'w') as output_file:\n",
    "            output_file.writelines(data)\n",
    "\n",
    "        print(\"File sorted successfully!\")\n",
    "\n",
    "    except Exception as e:\n",
    "        print(f\"Error: {e}\")\n",
    "\n",
    "infile = \"input.txt\"  \n",
    "outfile = \"output.txt\"  \n",
    "sort(infile, outfile)"
   ]
  },
  {
   "cell_type": "markdown",
   "id": "756d83a7",
   "metadata": {},
   "source": [
    "# 7. Develop a Python program that compresses a large text file using a compression algorithm (eg. gzip) and then decompresses it back to its original form"
   ]
  },
  {
   "cell_type": "code",
   "execution_count": 4,
   "id": "c2d8cba7",
   "metadata": {},
   "outputs": [
    {
     "name": "stdout",
     "output_type": "stream",
     "text": [
      "File 'apple.txt'successfully compressed to 'compressed.txt'\n",
      "File 'compressed.txt' successfully decompressed to 'decompressed.txt'\n"
     ]
    }
   ],
   "source": [
    "import gzip\n",
    "import shutil\n",
    "\n",
    "def compress_file(input_file, compressed_file):\n",
    "    with open(input_file, 'rb') as f_in:\n",
    "        with gzip.open(compressed_file, 'wb') as f_out:\n",
    "            shutil.copyfileobj(f_in, f_out)\n",
    "\n",
    "def decompress_file(compressed_file, output_file):\n",
    "    with gzip.open(compressed_file, 'rb') as f_in:\n",
    "        with open(output_file, 'wb') as f_out:\n",
    "            shutil.copyfileobj(f_in, f_out)\n",
    "\n",
    "input_file = \"apple.txt\"  \n",
    "compressed_file = \"compressed.txt\"  \n",
    "decompressed_file = \"decompressed.txt\"  \n",
    "\n",
    "compress_file(input_file, compressed_file)\n",
    "print(f\"File '{input_file}'successfully compressed to '{compressed_file}'\")\n",
    "\n",
    "decompress_file(compressed_file, decompressed_file)\n",
    "print(f\"File '{compressed_file}' successfully decompressed to '{decompressed_file}'\")"
   ]
  },
  {
   "cell_type": "markdown",
   "id": "25860e9b",
   "metadata": {},
   "source": [
    "# 8. Read a binary file (eg, an image or audio file) in Python and perform an operation, such as resizing an image or modifying audio data."
   ]
  },
  {
   "cell_type": "code",
   "execution_count": 6,
   "id": "ddfb9465",
   "metadata": {},
   "outputs": [
    {
     "name": "stdout",
     "output_type": "stream",
     "text": [
      "Image resized and saved as resized_image.jpg\n"
     ]
    }
   ],
   "source": [
    "from PIL import Image\n",
    "\n",
    "def resize_img(input_image, new_width, new_height):\n",
    "    try:\n",
    "        image = Image.open(input_image)\n",
    "        resized_image = image.resize((new_width, new_height), Image.LANCZOS)\n",
    "        output_img = \"resized_image.jpg\"  \n",
    "        resized_image.save(output_img)\n",
    "        print(f\"Image resized and saved as {output_img}\")\n",
    "    except Exception as e:\n",
    "        print(f\"An error occurred: {str(e)}\")\n",
    "\n",
    "input_image = \"myimage.jpg\"\n",
    "new_width = 100\n",
    "new_height = 150\n",
    "resize_img(input_image, new_width, new_height)"
   ]
  },
  {
   "cell_type": "code",
   "execution_count": 10,
   "id": "ac769d4b",
   "metadata": {},
   "outputs": [
    {
     "name": "stdout",
     "output_type": "stream",
     "text": [
      "Original size : (256, 256)\n"
     ]
    }
   ],
   "source": [
    "from PIL import Image\n",
    "\n",
    "image = Image.open('myimage.jpg')\n",
    "print(f\"Original size : {image.size}\") \n",
    "\n",
    "sun_resized = image.resize((400, 400))\n",
    "sun_resized.save('compimage.jpeg')"
   ]
  },
  {
   "cell_type": "markdown",
   "id": "a0564285",
   "metadata": {},
   "source": [
    "# 9. Write a python program to Combine the contents of multiple text files into a single file using Python. Each file should be appended to the end of the resulting file.\n"
   ]
  },
  {
   "cell_type": "code",
   "execution_count": 9,
   "id": "d32492b4",
   "metadata": {},
   "outputs": [
    {
     "name": "stdout",
     "output_type": "stream",
     "text": [
      "success\n"
     ]
    }
   ],
   "source": [
    "file1 = open('sample.txt','r')\n",
    "file2 = open('input.txt','r')\n",
    "file3 = open('apple.txt','r')\n",
    "\n",
    "content1 = file1.read()\n",
    "content2 = file2.read()\n",
    "content3 = file3.read()\n",
    "print(\"success\")\n",
    "\n",
    "mixed = open('mix_file.txt','w')\n",
    "mixed.write(content1+content2+content3)\n",
    "mixed.close()"
   ]
  },
  {
   "cell_type": "markdown",
   "id": "e2f78648",
   "metadata": {},
   "source": [
    "# 10. Create a Python script that accepts a text file as a command-line argument and counts the number of words, lines, and characters in the file"
   ]
  },
  {
   "cell_type": "code",
   "execution_count": 1,
   "id": "b3b0a856",
   "metadata": {},
   "outputs": [
    {
     "name": "stdout",
     "output_type": "stream",
     "text": [
      "Usage: python script.py <filename>\n"
     ]
    }
   ],
   "source": [
    "import sys\n",
    "def count_file_stats(filename):\n",
    "    try:\n",
    "        with open(filename, 'r', encoding='utf-8') as file:\n",
    "            content = file.read()\n",
    "            word_count = len(content.split())\n",
    "            line_count = content.count('\\n') + 1\n",
    "            char_count = len(content)\n",
    "            return word_count, line_count, char_count\n",
    "    except FileNotFoundError:\n",
    "        return None  # File not found\n",
    "    except Exception as e:\n",
    "        return str(e)  # Other exceptions\n",
    "if __name__ == \"__main__\":\n",
    "    if len(sys.argv) != 2:\n",
    "        print(\"Usage: python script.py <filename>\")\n",
    "    else:\n",
    "        filename = sys.argv[1]\n",
    "        file_stats = count_file_stats(filename)\n",
    "        if file_stats is not None:\n",
    "            word_count, line_count, char_count = file_stats\n",
    "            print(f\"Word count: {word_count}\")\n",
    "            print(f\"Line count: {line_count}\")\n",
    "            print(f\"Character count: {char_count}\")\n",
    "        else:\n",
    "            print(f\"File '{filename}' not found.\")"
   ]
  },
  {
   "cell_type": "markdown",
   "id": "11b6bf7d",
   "metadata": {},
   "source": [
    "# 11. Build a cornmand-line calculator that accepts a mathematical expression as a string argument and evaluates it, then prints the result."
   ]
  },
  {
   "cell_type": "code",
   "execution_count": 2,
   "id": "a40fac14",
   "metadata": {},
   "outputs": [
    {
     "name": "stdout",
     "output_type": "stream",
     "text": [
      "Usage: python calculator.py <mathematical_expression>\n"
     ]
    }
   ],
   "source": [
    "import sys\n",
    "def calculate(expression):\n",
    "    try:\n",
    "        result = eval(expression)\n",
    "        return result\n",
    "    except Exception as e:\n",
    "        return f\"Error: {str(e)}\"\n",
    "if __name__ == \"__main__\":\n",
    "    if len(sys.argv) != 2:\n",
    "        print(\"Usage: python calculator.py <mathematical_expression>\")\n",
    "    else:\n",
    "        expression = sys.argv[1]\n",
    "        result = calculate(expression)\n",
    "        print(f\"Result: {result}\")"
   ]
  },
  {
   "cell_type": "markdown",
   "id": "c2606c42",
   "metadata": {},
   "source": [
    "# 12. Implement a Python script that takes a CSV file and two column names as command-line arguments. The script should calculate the average of values in one column and store the result in another column in the same file"
   ]
  },
  {
   "cell_type": "code",
   "execution_count": 3,
   "id": "77d19014",
   "metadata": {},
   "outputs": [
    {
     "name": "stdout",
     "output_type": "stream",
     "text": [
      "CSV file 'data.csv' has been created with the data.\n"
     ]
    }
   ],
   "source": [
    "import csv\n",
    "data = [\n",
    "    [\"vani\", 50000],\n",
    "    [\"tejaswi\", 60000],\n",
    "    [\"teju\", 75000],\n",
    "    [\"ashv\", 80000]\n",
    "]\n",
    "file_name = \"data.csv\"\n",
    "\n",
    "# Write the data to the CSV file\n",
    "with open(file_name, mode=\"w\", newline=\"\") as file:\n",
    "    writer = csv.writer(file)\n",
    "    writer.writerow([\"Name\", \"Salary\"])  \n",
    "    writer.writerows(data)  \n",
    "\n",
    "print(f\"CSV file '{file_name}' has been created with the data.\")"
   ]
  },
  {
   "cell_type": "markdown",
   "id": "13a4145a",
   "metadata": {},
   "source": [
    "# 13.  Write a Python script that takes two integer command-line arguments and prints their sum."
   ]
  },
  {
   "cell_type": "code",
   "execution_count": 5,
   "id": "91b0847c",
   "metadata": {},
   "outputs": [
    {
     "name": "stdout",
     "output_type": "stream",
     "text": [
      "Invalid input. Please provide two integers as command-line arguments.\n"
     ]
    }
   ],
   "source": [
    "import sys\n",
    "def main():\n",
    "    if len(sys.argv) != 3:\n",
    "        print(\"Usage: python script.py <num1> <num2>\")\n",
    "        return\n",
    "    try:\n",
    "        num1 = int(sys.argv[1])\n",
    "        num2 = int(sys.argv[2])\n",
    "        result = num1 + num2\n",
    "        print(f\"The sum of {num1} and {num2} is {result}\")\n",
    "    except ValueError:\n",
    "        print(\"Invalid input. Please provide two integers as command-line arguments.\")\n",
    "if __name__ == \"__main__\":\n",
    "    main()"
   ]
  },
  {
   "cell_type": "markdown",
   "id": "01e2134e",
   "metadata": {},
   "source": [
    "# 14. Create a custom Python module that includes functions to calculate the factorial of a number and to check if a number is prime. Import and use this module in another Python script."
   ]
  },
  {
   "cell_type": "code",
   "execution_count": 12,
   "id": "35d525fb",
   "metadata": {},
   "outputs": [
    {
     "data": {
      "text/plain": [
       "5040"
      ]
     },
     "execution_count": 12,
     "metadata": {},
     "output_type": "execute_result"
    }
   ],
   "source": [
    "import weekend14\n",
    "n = 7\n",
    "weekend14.factorial(n)"
   ]
  },
  {
   "cell_type": "markdown",
   "id": "5ddf1f71",
   "metadata": {},
   "source": [
    "# 15. Create a Python module named calculator.py that contains functions for each of the four operations (addition, subtraction, multiplication, and division). Each function should take two arguments, perform the respective operation, and return the result."
   ]
  },
  {
   "cell_type": "code",
   "execution_count": 16,
   "id": "26ed63da",
   "metadata": {},
   "outputs": [
    {
     "name": "stdout",
     "output_type": "stream",
     "text": [
      "10+5 = 15\n",
      "10 - 5 = 5\n",
      "10*5= 50\n",
      "100/5 = 20.0\n"
     ]
    }
   ],
   "source": [
    "import weekend15\n",
    "add = weekend15.add(10,5)\n",
    "print(\"10+5 =\", add)\n",
    "subtract = weekend15.subtract(10, 5)\n",
    "print(\"10 - 5 =\", subtract)\n",
    "multiply = weekend15.multiply(10,5)\n",
    "print(\"10*5=\", multiply)\n",
    "try:\n",
    "    result_divide = weekend15.divide(100,5)\n",
    "    print(\"100/5 =\", result_divide)\n",
    "except ZeroDivisionError as e:\n",
    "    print(\"Error:\", e)"
   ]
  }
 ],
 "metadata": {
  "kernelspec": {
   "display_name": "Python 3 (ipykernel)",
   "language": "python",
   "name": "python3"
  },
  "language_info": {
   "codemirror_mode": {
    "name": "ipython",
    "version": 3
   },
   "file_extension": ".py",
   "mimetype": "text/x-python",
   "name": "python",
   "nbconvert_exporter": "python",
   "pygments_lexer": "ipython3",
   "version": "3.11.4"
  }
 },
 "nbformat": 4,
 "nbformat_minor": 5
}
